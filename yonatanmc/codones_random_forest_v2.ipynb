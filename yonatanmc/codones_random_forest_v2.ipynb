{
  "nbformat": 4,
  "nbformat_minor": 0,
  "metadata": {
    "colab": {
      "name": "codones_random_forest_v2.ipynb",
      "provenance": [],
      "collapsed_sections": [],
      "authorship_tag": "ABX9TyPyv6tMMsWAD4u0HxmmzL6J"
    },
    "kernelspec": {
      "name": "python3",
      "display_name": "Python 3"
    },
    "language_info": {
      "name": "python"
    }
  },
  "cells": [
    {
      "cell_type": "code",
      "execution_count": 18,
      "metadata": {
        "colab": {
          "base_uri": "https://localhost:8080/"
        },
        "id": "KSNQTwPQr-s2",
        "outputId": "44eec13d-2b0f-46c5-cf80-51b9db647a7c"
      },
      "outputs": [
        {
          "output_type": "stream",
          "name": "stderr",
          "text": [
            "/usr/local/lib/python3.7/dist-packages/IPython/core/interactiveshell.py:2882: DtypeWarning: Columns (5,6) have mixed types.Specify dtype option on import or set low_memory=False.\n",
            "  exec(code_obj, self.user_global_ns, self.user_ns)\n"
          ]
        }
      ],
      "source": [
        "import pandas as pd\n",
        "import zipfile\n",
        "from io import BytesIO\n",
        "import requests\n",
        "#Extraendo el conjunto de datos\n",
        "url = 'https://archive.ics.uci.edu/ml/machine-learning-databases/00577/codon_usage.csv.zip'\n",
        "r = requests.get(url)\n",
        "buf1 = BytesIO(r.content)\n",
        "with zipfile.ZipFile(buf1, \"r\") as f:\n",
        "    for name in f.namelist():\n",
        "        if name.endswith('.csv'):\n",
        "            with f.open(name) as zd:\n",
        "              #Asignando los datos de DNA Codones a la variabel df\n",
        "                df = pd.read_csv(zd, encoding='latin1', sep=',')            \n",
        "            break"
      ]
    },
    {
      "cell_type": "code",
      "source": [
        "#verificar los datos de condones\n",
        "df.head()"
      ],
      "metadata": {
        "colab": {
          "base_uri": "https://localhost:8080/",
          "height": 438
        },
        "id": "n5PfzGB8sH_Y",
        "outputId": "9fef0438-acd3-4c63-c3ed-3fbb5b777d3e"
      },
      "execution_count": 19,
      "outputs": [
        {
          "output_type": "execute_result",
          "data": {
            "text/plain": [
              "  Kingdom  DNAtype  SpeciesID  Ncodons  \\\n",
              "0     vrl        0     100217     1995   \n",
              "1     vrl        0     100220     1474   \n",
              "2     vrl        0     100755     4862   \n",
              "3     vrl        0     100880     1915   \n",
              "4     vrl        0     100887    22831   \n",
              "\n",
              "                               SpeciesName      UUU      UUC      UUA  \\\n",
              "0  Epizootic haematopoietic necrosis virus  0.01654  0.01203  0.00050   \n",
              "1                         Bohle iridovirus  0.02714  0.01357  0.00068   \n",
              "2             Sweet potato leaf curl virus  0.01974   0.0218  0.01357   \n",
              "3             Northern cereal mosaic virus  0.01775  0.02245  0.01619   \n",
              "4           Soil-borne cereal mosaic virus  0.02816  0.01371  0.00767   \n",
              "\n",
              "       UUG      CUU  ...      CGG      AGA      AGG      GAU      GAC  \\\n",
              "0  0.00351  0.01203  ...  0.00451  0.01303  0.03559  0.01003  0.04612   \n",
              "1  0.00678  0.00407  ...  0.00136  0.01696  0.03596  0.01221  0.04545   \n",
              "2  0.01543  0.00782  ...  0.00596  0.01974  0.02489  0.03126  0.02036   \n",
              "3  0.00992  0.01567  ...  0.00366  0.01410  0.01671  0.03760  0.01932   \n",
              "4  0.03679  0.01380  ...  0.00604  0.01494  0.01734  0.04148  0.02483   \n",
              "\n",
              "       GAA      GAG      UAA      UAG      UGA  \n",
              "0  0.01203  0.04361  0.00251  0.00050  0.00000  \n",
              "1  0.01560  0.04410  0.00271  0.00068  0.00000  \n",
              "2  0.02242  0.02468  0.00391  0.00000  0.00144  \n",
              "3  0.03029  0.03446  0.00261  0.00157  0.00000  \n",
              "4  0.03359  0.03679  0.00000  0.00044  0.00131  \n",
              "\n",
              "[5 rows x 69 columns]"
            ],
            "text/html": [
              "\n",
              "  <div id=\"df-356dbed3-04e7-4cfe-84e7-a719cbf0ac8f\">\n",
              "    <div class=\"colab-df-container\">\n",
              "      <div>\n",
              "<style scoped>\n",
              "    .dataframe tbody tr th:only-of-type {\n",
              "        vertical-align: middle;\n",
              "    }\n",
              "\n",
              "    .dataframe tbody tr th {\n",
              "        vertical-align: top;\n",
              "    }\n",
              "\n",
              "    .dataframe thead th {\n",
              "        text-align: right;\n",
              "    }\n",
              "</style>\n",
              "<table border=\"1\" class=\"dataframe\">\n",
              "  <thead>\n",
              "    <tr style=\"text-align: right;\">\n",
              "      <th></th>\n",
              "      <th>Kingdom</th>\n",
              "      <th>DNAtype</th>\n",
              "      <th>SpeciesID</th>\n",
              "      <th>Ncodons</th>\n",
              "      <th>SpeciesName</th>\n",
              "      <th>UUU</th>\n",
              "      <th>UUC</th>\n",
              "      <th>UUA</th>\n",
              "      <th>UUG</th>\n",
              "      <th>CUU</th>\n",
              "      <th>...</th>\n",
              "      <th>CGG</th>\n",
              "      <th>AGA</th>\n",
              "      <th>AGG</th>\n",
              "      <th>GAU</th>\n",
              "      <th>GAC</th>\n",
              "      <th>GAA</th>\n",
              "      <th>GAG</th>\n",
              "      <th>UAA</th>\n",
              "      <th>UAG</th>\n",
              "      <th>UGA</th>\n",
              "    </tr>\n",
              "  </thead>\n",
              "  <tbody>\n",
              "    <tr>\n",
              "      <th>0</th>\n",
              "      <td>vrl</td>\n",
              "      <td>0</td>\n",
              "      <td>100217</td>\n",
              "      <td>1995</td>\n",
              "      <td>Epizootic haematopoietic necrosis virus</td>\n",
              "      <td>0.01654</td>\n",
              "      <td>0.01203</td>\n",
              "      <td>0.00050</td>\n",
              "      <td>0.00351</td>\n",
              "      <td>0.01203</td>\n",
              "      <td>...</td>\n",
              "      <td>0.00451</td>\n",
              "      <td>0.01303</td>\n",
              "      <td>0.03559</td>\n",
              "      <td>0.01003</td>\n",
              "      <td>0.04612</td>\n",
              "      <td>0.01203</td>\n",
              "      <td>0.04361</td>\n",
              "      <td>0.00251</td>\n",
              "      <td>0.00050</td>\n",
              "      <td>0.00000</td>\n",
              "    </tr>\n",
              "    <tr>\n",
              "      <th>1</th>\n",
              "      <td>vrl</td>\n",
              "      <td>0</td>\n",
              "      <td>100220</td>\n",
              "      <td>1474</td>\n",
              "      <td>Bohle iridovirus</td>\n",
              "      <td>0.02714</td>\n",
              "      <td>0.01357</td>\n",
              "      <td>0.00068</td>\n",
              "      <td>0.00678</td>\n",
              "      <td>0.00407</td>\n",
              "      <td>...</td>\n",
              "      <td>0.00136</td>\n",
              "      <td>0.01696</td>\n",
              "      <td>0.03596</td>\n",
              "      <td>0.01221</td>\n",
              "      <td>0.04545</td>\n",
              "      <td>0.01560</td>\n",
              "      <td>0.04410</td>\n",
              "      <td>0.00271</td>\n",
              "      <td>0.00068</td>\n",
              "      <td>0.00000</td>\n",
              "    </tr>\n",
              "    <tr>\n",
              "      <th>2</th>\n",
              "      <td>vrl</td>\n",
              "      <td>0</td>\n",
              "      <td>100755</td>\n",
              "      <td>4862</td>\n",
              "      <td>Sweet potato leaf curl virus</td>\n",
              "      <td>0.01974</td>\n",
              "      <td>0.0218</td>\n",
              "      <td>0.01357</td>\n",
              "      <td>0.01543</td>\n",
              "      <td>0.00782</td>\n",
              "      <td>...</td>\n",
              "      <td>0.00596</td>\n",
              "      <td>0.01974</td>\n",
              "      <td>0.02489</td>\n",
              "      <td>0.03126</td>\n",
              "      <td>0.02036</td>\n",
              "      <td>0.02242</td>\n",
              "      <td>0.02468</td>\n",
              "      <td>0.00391</td>\n",
              "      <td>0.00000</td>\n",
              "      <td>0.00144</td>\n",
              "    </tr>\n",
              "    <tr>\n",
              "      <th>3</th>\n",
              "      <td>vrl</td>\n",
              "      <td>0</td>\n",
              "      <td>100880</td>\n",
              "      <td>1915</td>\n",
              "      <td>Northern cereal mosaic virus</td>\n",
              "      <td>0.01775</td>\n",
              "      <td>0.02245</td>\n",
              "      <td>0.01619</td>\n",
              "      <td>0.00992</td>\n",
              "      <td>0.01567</td>\n",
              "      <td>...</td>\n",
              "      <td>0.00366</td>\n",
              "      <td>0.01410</td>\n",
              "      <td>0.01671</td>\n",
              "      <td>0.03760</td>\n",
              "      <td>0.01932</td>\n",
              "      <td>0.03029</td>\n",
              "      <td>0.03446</td>\n",
              "      <td>0.00261</td>\n",
              "      <td>0.00157</td>\n",
              "      <td>0.00000</td>\n",
              "    </tr>\n",
              "    <tr>\n",
              "      <th>4</th>\n",
              "      <td>vrl</td>\n",
              "      <td>0</td>\n",
              "      <td>100887</td>\n",
              "      <td>22831</td>\n",
              "      <td>Soil-borne cereal mosaic virus</td>\n",
              "      <td>0.02816</td>\n",
              "      <td>0.01371</td>\n",
              "      <td>0.00767</td>\n",
              "      <td>0.03679</td>\n",
              "      <td>0.01380</td>\n",
              "      <td>...</td>\n",
              "      <td>0.00604</td>\n",
              "      <td>0.01494</td>\n",
              "      <td>0.01734</td>\n",
              "      <td>0.04148</td>\n",
              "      <td>0.02483</td>\n",
              "      <td>0.03359</td>\n",
              "      <td>0.03679</td>\n",
              "      <td>0.00000</td>\n",
              "      <td>0.00044</td>\n",
              "      <td>0.00131</td>\n",
              "    </tr>\n",
              "  </tbody>\n",
              "</table>\n",
              "<p>5 rows × 69 columns</p>\n",
              "</div>\n",
              "      <button class=\"colab-df-convert\" onclick=\"convertToInteractive('df-356dbed3-04e7-4cfe-84e7-a719cbf0ac8f')\"\n",
              "              title=\"Convert this dataframe to an interactive table.\"\n",
              "              style=\"display:none;\">\n",
              "        \n",
              "  <svg xmlns=\"http://www.w3.org/2000/svg\" height=\"24px\"viewBox=\"0 0 24 24\"\n",
              "       width=\"24px\">\n",
              "    <path d=\"M0 0h24v24H0V0z\" fill=\"none\"/>\n",
              "    <path d=\"M18.56 5.44l.94 2.06.94-2.06 2.06-.94-2.06-.94-.94-2.06-.94 2.06-2.06.94zm-11 1L8.5 8.5l.94-2.06 2.06-.94-2.06-.94L8.5 2.5l-.94 2.06-2.06.94zm10 10l.94 2.06.94-2.06 2.06-.94-2.06-.94-.94-2.06-.94 2.06-2.06.94z\"/><path d=\"M17.41 7.96l-1.37-1.37c-.4-.4-.92-.59-1.43-.59-.52 0-1.04.2-1.43.59L10.3 9.45l-7.72 7.72c-.78.78-.78 2.05 0 2.83L4 21.41c.39.39.9.59 1.41.59.51 0 1.02-.2 1.41-.59l7.78-7.78 2.81-2.81c.8-.78.8-2.07 0-2.86zM5.41 20L4 18.59l7.72-7.72 1.47 1.35L5.41 20z\"/>\n",
              "  </svg>\n",
              "      </button>\n",
              "      \n",
              "  <style>\n",
              "    .colab-df-container {\n",
              "      display:flex;\n",
              "      flex-wrap:wrap;\n",
              "      gap: 12px;\n",
              "    }\n",
              "\n",
              "    .colab-df-convert {\n",
              "      background-color: #E8F0FE;\n",
              "      border: none;\n",
              "      border-radius: 50%;\n",
              "      cursor: pointer;\n",
              "      display: none;\n",
              "      fill: #1967D2;\n",
              "      height: 32px;\n",
              "      padding: 0 0 0 0;\n",
              "      width: 32px;\n",
              "    }\n",
              "\n",
              "    .colab-df-convert:hover {\n",
              "      background-color: #E2EBFA;\n",
              "      box-shadow: 0px 1px 2px rgba(60, 64, 67, 0.3), 0px 1px 3px 1px rgba(60, 64, 67, 0.15);\n",
              "      fill: #174EA6;\n",
              "    }\n",
              "\n",
              "    [theme=dark] .colab-df-convert {\n",
              "      background-color: #3B4455;\n",
              "      fill: #D2E3FC;\n",
              "    }\n",
              "\n",
              "    [theme=dark] .colab-df-convert:hover {\n",
              "      background-color: #434B5C;\n",
              "      box-shadow: 0px 1px 3px 1px rgba(0, 0, 0, 0.15);\n",
              "      filter: drop-shadow(0px 1px 2px rgba(0, 0, 0, 0.3));\n",
              "      fill: #FFFFFF;\n",
              "    }\n",
              "  </style>\n",
              "\n",
              "      <script>\n",
              "        const buttonEl =\n",
              "          document.querySelector('#df-356dbed3-04e7-4cfe-84e7-a719cbf0ac8f button.colab-df-convert');\n",
              "        buttonEl.style.display =\n",
              "          google.colab.kernel.accessAllowed ? 'block' : 'none';\n",
              "\n",
              "        async function convertToInteractive(key) {\n",
              "          const element = document.querySelector('#df-356dbed3-04e7-4cfe-84e7-a719cbf0ac8f');\n",
              "          const dataTable =\n",
              "            await google.colab.kernel.invokeFunction('convertToInteractive',\n",
              "                                                     [key], {});\n",
              "          if (!dataTable) return;\n",
              "\n",
              "          const docLinkHtml = 'Like what you see? Visit the ' +\n",
              "            '<a target=\"_blank\" href=https://colab.research.google.com/notebooks/data_table.ipynb>data table notebook</a>'\n",
              "            + ' to learn more about interactive tables.';\n",
              "          element.innerHTML = '';\n",
              "          dataTable['output_type'] = 'display_data';\n",
              "          await google.colab.output.renderOutput(dataTable, element);\n",
              "          const docLink = document.createElement('div');\n",
              "          docLink.innerHTML = docLinkHtml;\n",
              "          element.appendChild(docLink);\n",
              "        }\n",
              "      </script>\n",
              "    </div>\n",
              "  </div>\n",
              "  "
            ]
          },
          "metadata": {},
          "execution_count": 19
        }
      ]
    },
    {
      "cell_type": "code",
      "source": [
        "#Ver la cantidad de registrar por cada clase de Kingdom\n",
        "df['Kingdom'].value_counts()"
      ],
      "metadata": {
        "colab": {
          "base_uri": "https://localhost:8080/"
        },
        "id": "op1rCDObsZ6Z",
        "outputId": "5727799f-ee06-4eb5-a7fd-74a343ce5db1"
      },
      "execution_count": 20,
      "outputs": [
        {
          "output_type": "execute_result",
          "data": {
            "text/plain": [
              "bct    2920\n",
              "vrl    2832\n",
              "pln    2523\n",
              "vrt    2077\n",
              "inv    1345\n",
              "mam     572\n",
              "phg     220\n",
              "rod     215\n",
              "pri     180\n",
              "arc     126\n",
              "plm      18\n",
              "Name: Kingdom, dtype: int64"
            ]
          },
          "metadata": {},
          "execution_count": 20
        }
      ]
    },
    {
      "cell_type": "code",
      "source": [
        "#Ver la cantidad de registros por cada clase DNA type\n",
        "df['DNAtype'].value_counts()"
      ],
      "metadata": {
        "colab": {
          "base_uri": "https://localhost:8080/"
        },
        "id": "6qkHBBLNsgPB",
        "outputId": "145faadf-fc74-40e0-a3bd-1e31ab4ca91e"
      },
      "execution_count": 21,
      "outputs": [
        {
          "output_type": "execute_result",
          "data": {
            "text/plain": [
              "0     9267\n",
              "1     2899\n",
              "2      816\n",
              "4       31\n",
              "12       5\n",
              "3        2\n",
              "9        2\n",
              "5        2\n",
              "11       2\n",
              "6        1\n",
              "7        1\n",
              "Name: DNAtype, dtype: int64"
            ]
          },
          "metadata": {},
          "execution_count": 21
        }
      ]
    },
    {
      "cell_type": "code",
      "source": [
        "#importando librerias para utilizar graficos con matplotlib\n",
        "import matplotlib.pyplot as plt\n",
        "import seaborn as sns\n",
        "%matplotlib inline "
      ],
      "metadata": {
        "id": "p9-7kDp2sjQY"
      },
      "execution_count": 22,
      "outputs": []
    },
    {
      "cell_type": "code",
      "source": [
        "#graficar las cantidad por clase de kingdom\n",
        "sns.countplot(df['Kingdom'])"
      ],
      "metadata": {
        "colab": {
          "base_uri": "https://localhost:8080/",
          "height": 351
        },
        "id": "3gdVG83NsjF_",
        "outputId": "71cf30e2-594c-4872-9b3f-92ba6740d000"
      },
      "execution_count": 23,
      "outputs": [
        {
          "output_type": "stream",
          "name": "stderr",
          "text": [
            "/usr/local/lib/python3.7/dist-packages/seaborn/_decorators.py:43: FutureWarning: Pass the following variable as a keyword arg: x. From version 0.12, the only valid positional argument will be `data`, and passing other arguments without an explicit keyword will result in an error or misinterpretation.\n",
            "  FutureWarning\n"
          ]
        },
        {
          "output_type": "execute_result",
          "data": {
            "text/plain": [
              "<matplotlib.axes._subplots.AxesSubplot at 0x7f37d2e9fb90>"
            ]
          },
          "metadata": {},
          "execution_count": 23
        },
        {
          "output_type": "display_data",
          "data": {
            "text/plain": [
              "<Figure size 432x288 with 1 Axes>"
            ],
            "image/png": "[encoded data removed]"
          },
          "metadata": {
            "needs_background": "light"
          }
        }
      ]
    },
    {
      "cell_type": "code",
      "source": [
        "#graficar las cantidad por clase de DNA type\n",
        "sns.countplot(df['DNAtype'])"
      ],
      "metadata": {
        "colab": {
          "base_uri": "https://localhost:8080/",
          "height": 351
        },
        "id": "0O4GsCQ3snjI",
        "outputId": "1d383d04-8b89-4cb7-8deb-e32e5a41b834"
      },
      "execution_count": 24,
      "outputs": [
        {
          "output_type": "stream",
          "name": "stderr",
          "text": [
            "/usr/local/lib/python3.7/dist-packages/seaborn/_decorators.py:43: FutureWarning: Pass the following variable as a keyword arg: x. From version 0.12, the only valid positional argument will be `data`, and passing other arguments without an explicit keyword will result in an error or misinterpretation.\n",
            "  FutureWarning\n"
          ]
        },
        {
          "output_type": "execute_result",
          "data": {
            "text/plain": [
              "<matplotlib.axes._subplots.AxesSubplot at 0x7f37d1698150>"
            ]
          },
          "metadata": {},
          "execution_count": 24
        },
        {
          "output_type": "display_data",
          "data": {
            "text/plain": [
              "<Figure size 432x288 with 1 Axes>"
            ],
            "image/png": "[encoded data removed]"
          },
          "metadata": {
            "needs_background": "light"
          }
        }
      ]
    },
    {
      "cell_type": "code",
      "source": [
        "import numpy as np\n",
        "\n",
        "#remplazar valores 'non-B hepatitis virus','12;I', '-' con NAN \n",
        "df['UUU'] = df['UUU'].replace(['non-B hepatitis virus','12;I'], np.nan)\n",
        "df['UUC'] = df['UUC'].replace('-', np.nan)\n",
        "\n",
        "#convertir las columnas a tipo float32 porque inicialmente se encontraban tipo objeto\n",
        "df['UUU'] = df['UUU'].astype('float32')\n",
        "df['UUC'] = df['UUC'].astype('float32')"
      ],
      "metadata": {
        "id": "ZDE0K5JzswWx"
      },
      "execution_count": 25,
      "outputs": []
    },
    {
      "cell_type": "code",
      "source": [
        "#eliminar registros que tienen valores NAN (para este caso sólo eliminará dos registros)\n",
        "df.dropna(inplace=True)"
      ],
      "metadata": {
        "id": "lK4oZWS4sywI"
      },
      "execution_count": 26,
      "outputs": []
    },
    {
      "cell_type": "code",
      "source": [
        "#Copia de dataset para modelos de clasificación con DNA y Kingdom\n",
        "#la copia se realizá para cada clase porque se desarrollarán modelos de forma independientes \"DNA\" y \"Kingdom\"\n",
        "df_dna = df.copy()\n",
        "df_kingdom = df.copy()"
      ],
      "metadata": {
        "id": "ZScMcrJIs0WQ"
      },
      "execution_count": 27,
      "outputs": []
    },
    {
      "cell_type": "code",
      "source": [
        ""
      ],
      "metadata": {
        "id": "MrC_pV8Rs64Q"
      },
      "execution_count": 27,
      "outputs": []
    },
    {
      "cell_type": "markdown",
      "source": [
        "### Modelo para la clasificación de tipo de DNA"
      ],
      "metadata": {
        "id": "g6QQZPo8s7ag"
      }
    },
    {
      "cell_type": "code",
      "source": [
        "#contar las cantidades por cada clase\n",
        "count_dnatype = df_dna['DNAtype'].value_counts()\n",
        "\n",
        "# convirtiendo a tipo dataframa las clases DNAType & cantidad\n",
        "df_counts_dna = pd.DataFrame(count_dnatype)\n",
        "df_counts_reset_dna = df_counts_dna.reset_index()\n",
        "df_counts_reset_dna.columns = ['DNAType_unique', 'counts'] # change column names\n",
        "\n",
        "#luego de convertir debemos eliminar las clases que tienen menores o iguales a 31 registros,\n",
        "# porque son muy pocos para que se puedan entrenar en el modelo\n",
        "for i in range(len(df_counts_reset_dna)):\n",
        "  if df_counts_reset_dna['counts'][i] <= 31:\n",
        "    df_dna.drop(df_dna[df_dna['DNAtype']==df_counts_reset_dna['DNAType_unique'][i]].index, axis=0, inplace=True)    "
      ],
      "metadata": {
        "id": "UhMLBqUutfqZ"
      },
      "execution_count": 28,
      "outputs": []
    },
    {
      "cell_type": "code",
      "source": [
        "#verificando las clases que serán entrenadas\n",
        "df_dna['DNAtype'].value_counts()"
      ],
      "metadata": {
        "colab": {
          "base_uri": "https://localhost:8080/"
        },
        "id": "nWfRKTGauRYK",
        "outputId": "14aeb5d3-09e0-409a-bc06-743dfd27587c"
      },
      "execution_count": 29,
      "outputs": [
        {
          "output_type": "execute_result",
          "data": {
            "text/plain": [
              "0    9265\n",
              "1    2899\n",
              "2     816\n",
              "Name: DNAtype, dtype: int64"
            ]
          },
          "metadata": {},
          "execution_count": 29
        }
      ]
    },
    {
      "cell_type": "code",
      "source": [
        "#seperando las dimensiones en \"X\" y \"Y\"\n",
        "# eliminamos 'Kingdom', 'SpeciesName', 'SpeciesID' porque tienen variables únicas\n",
        "\n",
        "X_dna = df_dna.drop(columns = ['DNAtype', 'Kingdom', 'SpeciesName', 'SpeciesID'], axis = 1)\n",
        "y_dna = df_dna['DNAtype']"
      ],
      "metadata": {
        "id": "ndvCWLPfulOo"
      },
      "execution_count": 30,
      "outputs": []
    },
    {
      "cell_type": "code",
      "source": [
        "#mostrando las dimensiones de X y Y\n",
        "print(\"Dimensión X \", X_dna.shape)\n",
        "print(\"Dimensión y \", y_dna.shape)"
      ],
      "metadata": {
        "colab": {
          "base_uri": "https://localhost:8080/"
        },
        "id": "PAeNowg8uqBH",
        "outputId": "60a935e5-5368-487a-cc41-80565410533c"
      },
      "execution_count": 31,
      "outputs": [
        {
          "output_type": "stream",
          "name": "stdout",
          "text": [
            "Dimensión X  (12980, 65)\n",
            "Dimensión y  (12980,)\n"
          ]
        }
      ]
    },
    {
      "cell_type": "code",
      "source": [
        "#Separando datos para entrenamiento y test en el modelo de DNA types\n",
        "from sklearn.model_selection import train_test_split\n",
        "X_train_dna, X_test_dna, y_train_dna, y_test_dna = train_test_split(X_dna, y_dna, test_size = 0.2, random_state = 0)"
      ],
      "metadata": {
        "id": "m0Wrq6wOvJ04"
      },
      "execution_count": 32,
      "outputs": []
    },
    {
      "cell_type": "code",
      "source": [
        "# creando la grilla o tabla de hyperparametros que serán evaluados\n",
        "from pprint import pprint\n",
        "rf_grid_dna = {'max_depth':[3,5,10,None],\n",
        "          'n_estimators':[10,100,200,300,400,500],\n",
        "          'max_features':['auto', 'sqrt'],\n",
        "          'criterion':['gini','entropy'],\n",
        "          'bootstrap':[True,False],\n",
        "          'min_samples_leaf':[1, 2, 4],\n",
        "          'min_samples_split': [2, 4, 5, 10]\n",
        "  }\n",
        "print('Los valores a probar en la búsqueda por grilla son:')\n",
        "pprint(rf_grid_dna)"
      ],
      "metadata": {
        "colab": {
          "base_uri": "https://localhost:8080/"
        },
        "id": "bfm6YLTcuszn",
        "outputId": "5da17ed5-bd24-4b32-8d1a-994886613992"
      },
      "execution_count": 33,
      "outputs": [
        {
          "output_type": "stream",
          "name": "stdout",
          "text": [
            "Los valores a probar en la búsqueda por grilla son:\n",
            "{'bootstrap': [True, False],\n",
            " 'criterion': ['gini', 'entropy'],\n",
            " 'max_depth': [3, 5, 10, None],\n",
            " 'max_features': ['auto', 'sqrt'],\n",
            " 'min_samples_leaf': [1, 2, 4],\n",
            " 'min_samples_split': [2, 4, 5, 10],\n",
            " 'n_estimators': [10, 100, 200, 300, 400, 500]}\n"
          ]
        }
      ]
    },
    {
      "cell_type": "code",
      "source": [
        "from sklearn.ensemble import RandomForestClassifier\n",
        "from sklearn.model_selection import RandomizedSearchCV\n",
        "\n",
        "model_grid_rfc_dna = RandomForestClassifier()\n",
        "rf_grid_search_dna = RandomizedSearchCV(\n",
        "    estimator=model_grid_rfc_dna,\n",
        "    param_distributions=rf_grid_dna,\n",
        "    n_jobs=-1,    \n",
        "    cv=3\n",
        ")\n",
        "rf_grid_search_dna.fit(X_train_dna, y_train_dna)\n",
        "\n",
        "rf_gridsearch_best = rf_grid_search_dna.best_estimator_\n",
        "\n",
        "print('Los hiperparámetros del mejor modelo son:')\n",
        "pprint(rf_grid_search_dna.best_params_)\n",
        "print()\n",
        "\n",
        "#mostrando resultados de test y validación del modelo con Random Forest\n",
        "print('Exactitud luego de búsqueda en grilla en entrenamiento DNA:', rf_gridsearch_best.score(X_train_dna, y_train_dna))\n",
        "print('Exactitud luego de búsqueda en grilla en validación DNA:', rf_gridsearch_best.score(X_test_dna, y_test_dna))"
      ],
      "metadata": {
        "colab": {
          "base_uri": "https://localhost:8080/"
        },
        "id": "Li13iJGguvq_",
        "outputId": "7ebeca5d-3690-4934-ec3d-941dda65c431"
      },
      "execution_count": 34,
      "outputs": [
        {
          "output_type": "stream",
          "name": "stdout",
          "text": [
            "Los hiperparámetros del mejor modelo son:\n",
            "{'bootstrap': False,\n",
            " 'criterion': 'entropy',\n",
            " 'max_depth': None,\n",
            " 'max_features': 'sqrt',\n",
            " 'min_samples_leaf': 1,\n",
            " 'min_samples_split': 5,\n",
            " 'n_estimators': 200}\n",
            "\n",
            "Exactitud luego de búsqueda en grilla en entrenamiento DNA: 1.0\n",
            "Exactitud luego de búsqueda en grilla en validación DNA: 0.9938366718027735\n"
          ]
        }
      ]
    },
    {
      "cell_type": "code",
      "source": [
        "from sklearn.metrics import accuracy_score, classification_report, roc_auc_score\n",
        "\n",
        "y_predict_test_dna = rf_grid_search_dna.predict(X_test_dna)\n",
        "\n",
        "print('AUC :', roc_auc_score(y_test_dna, rf_grid_search_dna.predict_proba(X_test_dna),multi_class='ovo'))\n",
        "print(\"--- Report ---\")\n",
        "print(classification_report(y_test_dna, y_predict_test_dna))"
      ],
      "metadata": {
        "colab": {
          "base_uri": "https://localhost:8080/"
        },
        "id": "xIGzZtV0tEXh",
        "outputId": "b4739e67-427f-4928-eb00-be2b0d12dc34"
      },
      "execution_count": 38,
      "outputs": [
        {
          "output_type": "stream",
          "name": "stdout",
          "text": [
            "AUC : 0.9995037722215582\n",
            "--- Report ---\n",
            "              precision    recall  f1-score   support\n",
            "\n",
            "           0       0.99      1.00      1.00      1835\n",
            "           1       1.00      0.99      1.00       589\n",
            "           2       0.99      0.94      0.96       172\n",
            "\n",
            "    accuracy                           0.99      2596\n",
            "   macro avg       0.99      0.98      0.99      2596\n",
            "weighted avg       0.99      0.99      0.99      2596\n",
            "\n"
          ]
        }
      ]
    },
    {
      "cell_type": "code",
      "source": [
        "# Aplicando SmoteTomek para el balanceo de datos en las tres clases utilizadas\n",
        "from imblearn.combine import SMOTETomek\n",
        "smt_dna = SMOTETomek()\n",
        "#generando balanceo de datos\n",
        "X_train_dna_smt, y_train_dna_smt = smt_dna.fit_resample(X_train_dna, y_train_dna)\n",
        "print(f'''Cambio de X train dna antes de SMOTE: {X_train_dna.shape} \n",
        "Cambio de X train dna después de SMOTE: {X_train_dna_smt.shape}''')\n",
        "\n",
        "#verificando las nuevas cantidades de balancceo de datos\n",
        "print('\\n Balance de class DNA :')\n",
        "y_train_dna_smt.value_counts()"
      ],
      "metadata": {
        "colab": {
          "base_uri": "https://localhost:8080/"
        },
        "id": "SqDIwAGzxPiI",
        "outputId": "a1c414df-806e-4a99-ebc2-7f3389d92296"
      },
      "execution_count": 39,
      "outputs": [
        {
          "output_type": "stream",
          "name": "stdout",
          "text": [
            "Cambio de X train dna antes de SMOTE: (10384, 65) \n",
            "Cambio de X train dna después de SMOTE: (19408, 65)\n",
            "\n",
            " Balance de class DNA :\n"
          ]
        },
        {
          "output_type": "execute_result",
          "data": {
            "text/plain": [
              "2    6679\n",
              "1    6452\n",
              "0    6277\n",
              "Name: DNAtype, dtype: int64"
            ]
          },
          "metadata": {},
          "execution_count": 39
        }
      ]
    },
    {
      "cell_type": "code",
      "source": [
        "# Ahora pasamos aplicar redución de dimensionalidad con PCA\n",
        "from sklearn.decomposition import PCA\n",
        "\n",
        "#numero de componentes para dimensionalidad es 3\n",
        "pca_dna = PCA(n_components=3)\n",
        "X_train_smt_dna_pca = pca_dna.fit_transform(X_train_dna_smt)\n",
        "X_test_dna_pca = pca_dna.transform(X_test_dna)\n",
        "pca_dna.explained_variance_ratio_"
      ],
      "metadata": {
        "colab": {
          "base_uri": "https://localhost:8080/"
        },
        "id": "X2OE9pE0xxlA",
        "outputId": "56247cea-8550-41b6-8209-0414302966de"
      },
      "execution_count": 40,
      "outputs": [
        {
          "output_type": "execute_result",
          "data": {
            "text/plain": [
              "array([1.00000000e+00, 1.24074567e-14, 8.28066724e-15])"
            ]
          },
          "metadata": {},
          "execution_count": 40
        }
      ]
    },
    {
      "cell_type": "code",
      "source": [
        "# creamos el modelos RF con las nuevas dimensiones y utilizando los mejores hyperparametros\n",
        "\n",
        "model_grid_rfc_dna_pca = RandomForestClassifier()\n",
        "rf_grid_search_dna_pca = RandomizedSearchCV(\n",
        "    estimator=model_grid_rfc_dna_pca,\n",
        "    param_distributions=rf_grid_dna,\n",
        "    n_jobs=-1,    \n",
        "    cv=3\n",
        ")\n",
        "rf_grid_search_dna_pca.fit(X_train_smt_dna_pca, y_train_dna_smt)\n",
        "\n",
        "rf_gridsearch_best_pca = rf_grid_search_dna_pca.best_estimator_\n",
        "\n",
        "print('Los hiperparámetros del mejor modelo son:')\n",
        "pprint(rf_grid_search_dna_pca.best_params_)\n",
        "print()\n",
        "\n",
        "print('Exactitud luego de búsqueda en grilla en entrenamiento DNA:', rf_gridsearch_best_pca.score(X_train_smt_dna_pca, y_train_dna_smt))\n",
        "print('Exactitud luego de búsqueda en grilla en validación DNA:', rf_gridsearch_best_pca.score(X_test_dna_pca, y_test_dna))"
      ],
      "metadata": {
        "colab": {
          "base_uri": "https://localhost:8080/"
        },
        "id": "CVX5tnhCxyBO",
        "outputId": "7f24e34d-2624-414e-a249-6b8e06e04774"
      },
      "execution_count": 41,
      "outputs": [
        {
          "output_type": "stream",
          "name": "stdout",
          "text": [
            "Los hiperparámetros del mejor modelo son:\n",
            "{'bootstrap': True,\n",
            " 'criterion': 'gini',\n",
            " 'max_depth': None,\n",
            " 'max_features': 'sqrt',\n",
            " 'min_samples_leaf': 1,\n",
            " 'min_samples_split': 2,\n",
            " 'n_estimators': 300}\n",
            "\n",
            "Exactitud luego de búsqueda en grilla en entrenamiento DNA: 1.0\n",
            "Exactitud luego de búsqueda en grilla en validación DNA: 0.947226502311248\n"
          ]
        }
      ]
    },
    {
      "cell_type": "code",
      "source": [
        "from sklearn.metrics import accuracy_score, classification_report, roc_auc_score\n",
        "\n",
        "y_predict_test_dna_pca = rf_grid_search_dna_pca.predict(X_test_dna_pca)\n",
        "\n",
        "print('AUC :', roc_auc_score(y_test_dna, rf_grid_search_dna_pca.predict_proba(X_test_dna_pca),multi_class='ovo'))\n",
        "print(\"--- Report ---\")\n",
        "print(classification_report(y_test_dna, y_predict_test_dna_pca))"
      ],
      "metadata": {
        "id": "wJqeE7Uq4tAa",
        "colab": {
          "base_uri": "https://localhost:8080/"
        },
        "outputId": "78091512-e42c-4ec1-d341-744fe857d996"
      },
      "execution_count": 42,
      "outputs": [
        {
          "output_type": "stream",
          "name": "stdout",
          "text": [
            "AUC : 0.9914133080272793\n",
            "--- Report ---\n",
            "              precision    recall  f1-score   support\n",
            "\n",
            "           0       0.98      0.95      0.97      1835\n",
            "           1       0.96      0.96      0.96       589\n",
            "           2       0.65      0.87      0.74       172\n",
            "\n",
            "    accuracy                           0.95      2596\n",
            "   macro avg       0.86      0.93      0.89      2596\n",
            "weighted avg       0.95      0.95      0.95      2596\n",
            "\n"
          ]
        }
      ]
    },
    {
      "cell_type": "markdown",
      "source": [
        "### Modelo para clasificación de clases en \"Kingdom\""
      ],
      "metadata": {
        "id": "87en6gMd4wqC"
      }
    },
    {
      "cell_type": "code",
      "source": [
        "#contando la cantidad  de registros por cada clase\n",
        "count_kingdom = df_kingdom['Kingdom'].value_counts()\n",
        "\n",
        "# convirtiendo a tipo dataframa las clases kingdom & cantidad\n",
        "df_counts_kingdom = pd.DataFrame(count_kingdom)\n",
        "df_counts_reset_kingdom = df_counts_kingdom.reset_index()\n",
        "df_counts_reset_kingdom.columns = ['Kingdom_unique', 'counts'] # change column names\n",
        "\n",
        "#Eliminar clases que tienen menos o igual a 572 registros por cada clase\n",
        "# porque vemos que no hay suficientes datos para entrenar en los modelos\n",
        "for i in range(len(df_counts_reset_kingdom)):\n",
        "  if df_counts_reset_kingdom['counts'][i] <= 572:\n",
        "    df_kingdom.drop(df_kingdom[df_kingdom['Kingdom']==df_counts_reset_kingdom['Kingdom_unique'][i]].index, axis=0, inplace=True)    "
      ],
      "metadata": {
        "id": "fQaw_ZKL4ySB"
      },
      "execution_count": 43,
      "outputs": []
    },
    {
      "cell_type": "code",
      "source": [
        "#verificando las clases que serán entrenadas en el modelo\n",
        "df_kingdom['Kingdom'].value_counts()"
      ],
      "metadata": {
        "colab": {
          "base_uri": "https://localhost:8080/"
        },
        "id": "PjWOifuc5uCN",
        "outputId": "8e1158ed-d4aa-49d4-ddb8-da74144d5c1d"
      },
      "execution_count": 44,
      "outputs": [
        {
          "output_type": "execute_result",
          "data": {
            "text/plain": [
              "bct    2919\n",
              "vrl    2831\n",
              "pln    2523\n",
              "vrt    2077\n",
              "inv    1345\n",
              "Name: Kingdom, dtype: int64"
            ]
          },
          "metadata": {},
          "execution_count": 44
        }
      ]
    },
    {
      "cell_type": "code",
      "source": [
        "#transformando las clases de kingdom a tipo númericas entre 0 y 4\n",
        "from sklearn.preprocessing import LabelEncoder\n",
        "le = LabelEncoder()\n",
        "df_kingdom['Kingdom'] = le.fit_transform(df_kingdom['Kingdom'])"
      ],
      "metadata": {
        "id": "87ZYZeeG631n"
      },
      "execution_count": 45,
      "outputs": []
    },
    {
      "cell_type": "code",
      "source": [
        "#Seperando las dimensiones en X y Y\n",
        "X_kingdom = df_kingdom.drop(columns = ['DNAtype', 'Kingdom', 'SpeciesName', 'SpeciesID'], axis = 1)\n",
        "y_kingdom = df_kingdom['Kingdom']"
      ],
      "metadata": {
        "id": "nx8sRJaE5tu-"
      },
      "execution_count": 46,
      "outputs": []
    },
    {
      "cell_type": "code",
      "source": [
        "print(\"Dimensión X Kingdom \", X_kingdom.shape)\n",
        "print(\"Dimensión y Kingdom \", y_kingdom.shape)"
      ],
      "metadata": {
        "colab": {
          "base_uri": "https://localhost:8080/"
        },
        "id": "sW8Rwtep6RmP",
        "outputId": "5e9ccb27-fd24-4afa-9c65-29b0aa490838"
      },
      "execution_count": 47,
      "outputs": [
        {
          "output_type": "stream",
          "name": "stdout",
          "text": [
            "Dimensión X Kingdom  (11695, 65)\n",
            "Dimensión y Kingdom  (11695,)\n"
          ]
        }
      ]
    },
    {
      "cell_type": "code",
      "source": [
        "#seperando los datos de entrenamiento y test\n",
        "from sklearn.model_selection import train_test_split\n",
        "X_train_kingdom, X_test_kingdom, y_train_kingdom, y_test_kingdom = train_test_split(X_kingdom, y_kingdom, test_size = 0.2, random_state = 0)"
      ],
      "metadata": {
        "id": "zQppid0J6aw9"
      },
      "execution_count": 48,
      "outputs": []
    },
    {
      "cell_type": "code",
      "source": [
        "#crando las grillas o tabla para luego encontrar los mejores hyperparametros\n",
        "from pprint import pprint\n",
        "rf_grid_kingdom = {'max_depth':[3,5,10,None],\n",
        "          'n_estimators':[10,100,200,300,400,500],\n",
        "          'max_features':['auto', 'sqrt'],\n",
        "          'criterion':['gini','entropy'],\n",
        "          'bootstrap':[True,False],\n",
        "          'min_samples_leaf':[1, 2, 4],\n",
        "          'min_samples_split': [2, 4, 5, 10]\n",
        "  }\n",
        "print('Los valores a probar en la búsqueda por grilla son:')\n",
        "pprint(rf_grid_kingdom)"
      ],
      "metadata": {
        "colab": {
          "base_uri": "https://localhost:8080/"
        },
        "id": "9pYeJh6k6f8o",
        "outputId": "ba2cff31-8f89-4634-e99e-4c3d7b3c1070"
      },
      "execution_count": 49,
      "outputs": [
        {
          "output_type": "stream",
          "name": "stdout",
          "text": [
            "Los valores a probar en la búsqueda por grilla son:\n",
            "{'bootstrap': [True, False],\n",
            " 'criterion': ['gini', 'entropy'],\n",
            " 'max_depth': [3, 5, 10, None],\n",
            " 'max_features': ['auto', 'sqrt'],\n",
            " 'min_samples_leaf': [1, 2, 4],\n",
            " 'min_samples_split': [2, 4, 5, 10],\n",
            " 'n_estimators': [10, 100, 200, 300, 400, 500]}\n"
          ]
        }
      ]
    },
    {
      "cell_type": "code",
      "source": [
        "from sklearn.ensemble import RandomForestClassifier\n",
        "from sklearn.model_selection import RandomizedSearchCV\n",
        "\n",
        "#desarrolloando el modelos con los mejores hyperametros\n",
        "model_grid_rfc_kingdom = RandomForestClassifier()\n",
        "rf_grid_search_kingdom = RandomizedSearchCV(\n",
        "    estimator=model_grid_rfc_kingdom,\n",
        "    param_distributions=rf_grid_kingdom,\n",
        "    n_jobs=-1,    \n",
        "    cv=3\n",
        ")\n",
        "rf_grid_search_kingdom.fit(X_train_kingdom, y_train_kingdom)\n",
        "\n",
        "rf_gridsearch_best_kingdom = rf_grid_search_kingdom.best_estimator_\n",
        "\n",
        "print('Los hiperparámetros del mejor modelo son:')\n",
        "pprint(rf_grid_search_kingdom.best_params_)\n",
        "print()\n",
        "\n",
        "print('Exactitud luego de búsqueda en grilla en entrenamiento kingdom:', rf_gridsearch_best_kingdom.score(X_train_kingdom, y_train_kingdom))\n",
        "print('Exactitud luego de búsqueda en grilla en validación kingdom:', rf_gridsearch_best_kingdom.score(X_test_kingdom, y_test_kingdom))"
      ],
      "metadata": {
        "colab": {
          "base_uri": "https://localhost:8080/"
        },
        "id": "fAR_S3Fu7Kie",
        "outputId": "493adc70-a2d0-4cd4-b849-db09a493dde8"
      },
      "execution_count": 51,
      "outputs": [
        {
          "output_type": "stream",
          "name": "stdout",
          "text": [
            "Los hiperparámetros del mejor modelo son:\n",
            "{'bootstrap': True,\n",
            " 'criterion': 'entropy',\n",
            " 'max_depth': None,\n",
            " 'max_features': 'sqrt',\n",
            " 'min_samples_leaf': 2,\n",
            " 'min_samples_split': 4,\n",
            " 'n_estimators': 100}\n",
            "\n",
            "Exactitud luego de búsqueda en grilla en entrenamiento kingdom: 0.9996793501496366\n",
            "Exactitud luego de búsqueda en grilla en validación kingdom: 0.9358700299273194\n"
          ]
        }
      ]
    },
    {
      "cell_type": "code",
      "source": [
        "from sklearn.metrics import accuracy_score, classification_report, roc_auc_score\n",
        "\n",
        "y_predict_test_kingdom = rf_grid_search_kingdom.predict(X_test_kingdom)\n",
        "\n",
        "print('AUC :', roc_auc_score(y_test_kingdom, rf_grid_search_kingdom.predict_proba(X_test_kingdom), multi_class='ovo'))\n",
        "print(\"--- Report ---\")\n",
        "print(classification_report(y_test_kingdom, y_predict_test_kingdom))"
      ],
      "metadata": {
        "colab": {
          "base_uri": "https://localhost:8080/"
        },
        "id": "5q-m-pYlyMpp",
        "outputId": "1c38c86f-08f5-4d86-be72-d070791b3270"
      },
      "execution_count": 53,
      "outputs": [
        {
          "output_type": "stream",
          "name": "stdout",
          "text": [
            "AUC : 0.9943314459953824\n",
            "--- Report ---\n",
            "              precision    recall  f1-score   support\n",
            "\n",
            "           0       0.96      0.98      0.97       569\n",
            "           1       0.95      0.74      0.83       272\n",
            "           2       0.91      0.93      0.92       509\n",
            "           3       0.90      0.97      0.93       554\n",
            "           4       0.98      0.98      0.98       435\n",
            "\n",
            "    accuracy                           0.94      2339\n",
            "   macro avg       0.94      0.92      0.93      2339\n",
            "weighted avg       0.94      0.94      0.93      2339\n",
            "\n"
          ]
        }
      ]
    },
    {
      "cell_type": "code",
      "source": [
        "# Aplicando SmoteTomek para el balanceo de datos en las clases de \"kingdom\"\n",
        "from imblearn.combine import SMOTETomek\n",
        "smt_kingdom = SMOTETomek()\n",
        "#obteniendo las nuevas cantidades de datos balanceados en cada clase\n",
        "X_train_kingdom_smt, y_train_kingdom_smt = smt_kingdom.fit_resample(X_train_kingdom, y_train_kingdom)\n",
        "print(f'''Cambio de X train dna antes de SMOTE: {X_train_kingdom.shape} \n",
        "Cambio de X train dna después de SMOTE: {X_train_kingdom_smt.shape}''')\n",
        "\n",
        "\n",
        "print('\\n Balance de class DNA :')\n",
        "y_train_kingdom_smt.value_counts()"
      ],
      "metadata": {
        "colab": {
          "base_uri": "https://localhost:8080/"
        },
        "id": "KAYB46RF73eH",
        "outputId": "8d99d65c-4468-42aa-9f82-c3f7d4b195d6"
      },
      "execution_count": 54,
      "outputs": [
        {
          "output_type": "stream",
          "name": "stdout",
          "text": [
            "Cambio de X train dna antes de SMOTE: (9356, 65) \n",
            "Cambio de X train dna después de SMOTE: (7656, 65)\n",
            "\n",
            " Balance de class DNA :\n"
          ]
        },
        {
          "output_type": "execute_result",
          "data": {
            "text/plain": [
              "4    1723\n",
              "1    1532\n",
              "2    1483\n",
              "0    1471\n",
              "3    1447\n",
              "Name: Kingdom, dtype: int64"
            ]
          },
          "metadata": {},
          "execution_count": 54
        }
      ]
    },
    {
      "cell_type": "code",
      "source": [
        "#Aplicando reducción de dimensionalidad con PCA\n",
        "from sklearn.decomposition import PCA\n",
        "#para este caso utilizamos 20 componentes\n",
        "pca_kingdom = PCA(n_components=20)\n",
        "X_train_smt_kingdom_pca = pca_kingdom.fit_transform(X_train_kingdom_smt)\n",
        "X_test_kingdom_pca = pca_kingdom.transform(X_test_kingdom)\n",
        "pca_kingdom.explained_variance_ratio_"
      ],
      "metadata": {
        "colab": {
          "base_uri": "https://localhost:8080/"
        },
        "id": "aDa8dpjW8L4g",
        "outputId": "f15bcb00-6596-4075-dd58-4e1fb6bdd9db"
      },
      "execution_count": 55,
      "outputs": [
        {
          "output_type": "execute_result",
          "data": {
            "text/plain": [
              "array([1.00000000e+00, 5.88455413e-15, 3.76410073e-15, 1.23879601e-15,\n",
              "       6.03787433e-16, 4.68792930e-16, 4.15743422e-16, 3.57303357e-16,\n",
              "       3.08140058e-16, 2.51478775e-16, 1.99116548e-16, 1.93703182e-16,\n",
              "       1.71418113e-16, 1.61259390e-16, 1.51281640e-16, 1.30994970e-16,\n",
              "       1.17794172e-16, 1.11006474e-16, 1.06262825e-16, 1.00511903e-16])"
            ]
          },
          "metadata": {},
          "execution_count": 55
        }
      ]
    },
    {
      "cell_type": "code",
      "source": [
        "model_grid_rfc_kingdom_pca = RandomForestClassifier()\n",
        "rf_grid_search_kingdom_pca = RandomizedSearchCV(\n",
        "    estimator=model_grid_rfc_kingdom_pca,\n",
        "    param_distributions=rf_grid_kingdom,\n",
        "    n_jobs=-1,    \n",
        "    cv=3\n",
        ")\n",
        "rf_grid_search_kingdom_pca.fit(X_train_smt_kingdom_pca, y_train_kingdom_smt)\n",
        "\n",
        "rf_gridsearch_best_pca_kingdom = rf_grid_search_kingdom_pca.best_estimator_\n",
        "\n",
        "print('Los hiperparámetros del mejor modelo son:')\n",
        "pprint(rf_grid_search_kingdom_pca.best_params_)\n",
        "print()\n",
        "\n",
        "print('Exactitud luego de búsqueda en grilla en entrenamiento kingdom:', rf_gridsearch_best_pca_kingdom.score(X_train_smt_kingdom_pca, y_train_kingdom_smt))\n",
        "print('Exactitud luego de búsqueda en grilla en validación kingdom:', rf_gridsearch_best_pca_kingdom.score(X_test_kingdom_pca, y_test_kingdom))"
      ],
      "metadata": {
        "colab": {
          "base_uri": "https://localhost:8080/"
        },
        "id": "fVBsgtOA8479",
        "outputId": "27091033-e2d3-4094-fb80-dd865d85f3f4"
      },
      "execution_count": 56,
      "outputs": [
        {
          "output_type": "stream",
          "name": "stdout",
          "text": [
            "Los hiperparámetros del mejor modelo son:\n",
            "{'bootstrap': False,\n",
            " 'criterion': 'entropy',\n",
            " 'max_depth': None,\n",
            " 'max_features': 'auto',\n",
            " 'min_samples_leaf': 1,\n",
            " 'min_samples_split': 5,\n",
            " 'n_estimators': 100}\n",
            "\n",
            "Exactitud luego de búsqueda en grilla en entrenamiento kingdom: 1.0\n",
            "Exactitud luego de búsqueda en grilla en validación kingdom: 0.9115006412997008\n"
          ]
        }
      ]
    },
    {
      "cell_type": "markdown",
      "source": [
        "10 components\n",
        "- Exactitud luego de búsqueda en grilla en entrenamiento kingdom: 1.0\n",
        "- Exactitud luego de búsqueda en grilla en validación kingdom: 0.8760153911928175"
      ],
      "metadata": {
        "id": "zb6n9jFI_flH"
      }
    },
    {
      "cell_type": "code",
      "source": [
        "from sklearn.metrics import accuracy_score, classification_report, roc_auc_score\n",
        "\n",
        "y_predict_test_kingdom_pca = rf_grid_search_kingdom_pca.predict(X_test_kingdom_pca)\n",
        "\n",
        "print('AUC :', roc_auc_score(y_test_kingdom, rf_grid_search_kingdom_pca.predict_proba(X_test_kingdom_pca), multi_class='ovo'))\n",
        "print(\"--- Report ---\")\n",
        "print(classification_report(y_test_kingdom, y_predict_test_kingdom_pca))"
      ],
      "metadata": {
        "id": "GqloejaT_ge9",
        "colab": {
          "base_uri": "https://localhost:8080/"
        },
        "outputId": "9bfeaab8-beeb-491e-c495-6a1d88d749b2"
      },
      "execution_count": 57,
      "outputs": [
        {
          "output_type": "stream",
          "name": "stdout",
          "text": [
            "AUC : 0.9886588806759636\n",
            "--- Report ---\n",
            "              precision    recall  f1-score   support\n",
            "\n",
            "           0       0.95      0.94      0.95       569\n",
            "           1       0.76      0.80      0.78       272\n",
            "           2       0.90      0.85      0.88       509\n",
            "           3       0.90      0.94      0.92       554\n",
            "           4       0.98      0.97      0.98       435\n",
            "\n",
            "    accuracy                           0.91      2339\n",
            "   macro avg       0.90      0.90      0.90      2339\n",
            "weighted avg       0.91      0.91      0.91      2339\n",
            "\n"
          ]
        }
      ]
    },
    {
      "cell_type": "code",
      "source": [
        ""
      ],
      "metadata": {
        "id": "ppDOqC4DB3TD"
      },
      "execution_count": null,
      "outputs": []
    },
    {
      "cell_type": "code",
      "source": [
        ""
      ],
      "metadata": {
        "id": "37-NqThhB4xz"
      },
      "execution_count": null,
      "outputs": []
    }
  ]
}