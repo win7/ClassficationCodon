{
  "nbformat": 4,
  "nbformat_minor": 0,
  "metadata": {
    "colab": {
      "name": "codones_random_forest.ipynb",
      "provenance": [],
      "authorship_tag": "ABX9TyPgImgzdCqPaj5j0qtoB685"
    },
    "kernelspec": {
      "name": "python3",
      "display_name": "Python 3"
    },
    "language_info": {
      "name": "python"
    }
  },
  "cells": [
    {
      "cell_type": "code",
      "execution_count": null,
      "metadata": {
        "id": "eGaw3xO503xf"
      },
      "outputs": [],
      "source": [
        "# Machine Learning "
      ]
    },
    {
      "cell_type": "code",
      "source": [
        "import pandas as pd\n",
        "import zipfile\n",
        "from io import BytesIO\n",
        "import requests\n",
        "\n",
        "url = 'https://archive.ics.uci.edu/ml/machine-learning-databases/00577/codon_usage.csv.zip'\n",
        "r = requests.get(url)\n",
        "buf1 = BytesIO(r.content)\n",
        "with zipfile.ZipFile(buf1, \"r\") as f:\n",
        "    for name in f.namelist():\n",
        "        if name.endswith('.csv'):\n",
        "            with f.open(name) as zd:\n",
        "                df = pd.read_csv(zd, encoding='latin1', sep=',')            \n",
        "            break"
      ],
      "metadata": {
        "colab": {
          "base_uri": "https://localhost:8080/"
        },
        "id": "sYyNUGJsCoHV",
        "outputId": "f11b9cbb-a77c-42b1-e6fc-53f29f5edc5d"
      },
      "execution_count": null,
      "outputs": [
        {
          "output_type": "stream",
          "name": "stderr",
          "text": [
            "/usr/local/lib/python3.7/dist-packages/IPython/core/interactiveshell.py:2882: DtypeWarning: Columns (5,6) have mixed types.Specify dtype option on import or set low_memory=False.\n",
            "  exec(code_obj, self.user_global_ns, self.user_ns)\n"
          ]
        }
      ]
    },
    {
      "cell_type": "code",
      "source": [
        "df.head()"
      ],
      "metadata": {
        "colab": {
          "base_uri": "https://localhost:8080/",
          "height": 438
        },
        "id": "P2GMXHTQDBnT",
        "outputId": "151abb65-a980-4662-f258-b83f3986755a"
      },
      "execution_count": null,
      "outputs": [
        {
          "output_type": "execute_result",
          "data": {
            "text/plain": [
              "  Kingdom  DNAtype  SpeciesID  Ncodons  \\\n",
              "0     vrl        0     100217     1995   \n",
              "1     vrl        0     100220     1474   \n",
              "2     vrl        0     100755     4862   \n",
              "3     vrl        0     100880     1915   \n",
              "4     vrl        0     100887    22831   \n",
              "\n",
              "                               SpeciesName      UUU      UUC      UUA  \\\n",
              "0  Epizootic haematopoietic necrosis virus  0.01654  0.01203  0.00050   \n",
              "1                         Bohle iridovirus  0.02714  0.01357  0.00068   \n",
              "2             Sweet potato leaf curl virus  0.01974   0.0218  0.01357   \n",
              "3             Northern cereal mosaic virus  0.01775  0.02245  0.01619   \n",
              "4           Soil-borne cereal mosaic virus  0.02816  0.01371  0.00767   \n",
              "\n",
              "       UUG      CUU  ...      CGG      AGA      AGG      GAU      GAC  \\\n",
              "0  0.00351  0.01203  ...  0.00451  0.01303  0.03559  0.01003  0.04612   \n",
              "1  0.00678  0.00407  ...  0.00136  0.01696  0.03596  0.01221  0.04545   \n",
              "2  0.01543  0.00782  ...  0.00596  0.01974  0.02489  0.03126  0.02036   \n",
              "3  0.00992  0.01567  ...  0.00366  0.01410  0.01671  0.03760  0.01932   \n",
              "4  0.03679  0.01380  ...  0.00604  0.01494  0.01734  0.04148  0.02483   \n",
              "\n",
              "       GAA      GAG      UAA      UAG      UGA  \n",
              "0  0.01203  0.04361  0.00251  0.00050  0.00000  \n",
              "1  0.01560  0.04410  0.00271  0.00068  0.00000  \n",
              "2  0.02242  0.02468  0.00391  0.00000  0.00144  \n",
              "3  0.03029  0.03446  0.00261  0.00157  0.00000  \n",
              "4  0.03359  0.03679  0.00000  0.00044  0.00131  \n",
              "\n",
              "[5 rows x 69 columns]"
            ],
            "text/html": [
              "\n",
              "  <div id=\"df-8106fb36-2b95-4ca2-b20f-145d7be11d13\">\n",
              "    <div class=\"colab-df-container\">\n",
              "      <div>\n",
              "<style scoped>\n",
              "    .dataframe tbody tr th:only-of-type {\n",
              "        vertical-align: middle;\n",
              "    }\n",
              "\n",
              "    .dataframe tbody tr th {\n",
              "        vertical-align: top;\n",
              "    }\n",
              "\n",
              "    .dataframe thead th {\n",
              "        text-align: right;\n",
              "    }\n",
              "</style>\n",
              "<table border=\"1\" class=\"dataframe\">\n",
              "  <thead>\n",
              "    <tr style=\"text-align: right;\">\n",
              "      <th></th>\n",
              "      <th>Kingdom</th>\n",
              "      <th>DNAtype</th>\n",
              "      <th>SpeciesID</th>\n",
              "      <th>Ncodons</th>\n",
              "      <th>SpeciesName</th>\n",
              "      <th>UUU</th>\n",
              "      <th>UUC</th>\n",
              "      <th>UUA</th>\n",
              "      <th>UUG</th>\n",
              "      <th>CUU</th>\n",
              "      <th>...</th>\n",
              "      <th>CGG</th>\n",
              "      <th>AGA</th>\n",
              "      <th>AGG</th>\n",
              "      <th>GAU</th>\n",
              "      <th>GAC</th>\n",
              "      <th>GAA</th>\n",
              "      <th>GAG</th>\n",
              "      <th>UAA</th>\n",
              "      <th>UAG</th>\n",
              "      <th>UGA</th>\n",
              "    </tr>\n",
              "  </thead>\n",
              "  <tbody>\n",
              "    <tr>\n",
              "      <th>0</th>\n",
              "      <td>vrl</td>\n",
              "      <td>0</td>\n",
              "      <td>100217</td>\n",
              "      <td>1995</td>\n",
              "      <td>Epizootic haematopoietic necrosis virus</td>\n",
              "      <td>0.01654</td>\n",
              "      <td>0.01203</td>\n",
              "      <td>0.00050</td>\n",
              "      <td>0.00351</td>\n",
              "      <td>0.01203</td>\n",
              "      <td>...</td>\n",
              "      <td>0.00451</td>\n",
              "      <td>0.01303</td>\n",
              "      <td>0.03559</td>\n",
              "      <td>0.01003</td>\n",
              "      <td>0.04612</td>\n",
              "      <td>0.01203</td>\n",
              "      <td>0.04361</td>\n",
              "      <td>0.00251</td>\n",
              "      <td>0.00050</td>\n",
              "      <td>0.00000</td>\n",
              "    </tr>\n",
              "    <tr>\n",
              "      <th>1</th>\n",
              "      <td>vrl</td>\n",
              "      <td>0</td>\n",
              "      <td>100220</td>\n",
              "      <td>1474</td>\n",
              "      <td>Bohle iridovirus</td>\n",
              "      <td>0.02714</td>\n",
              "      <td>0.01357</td>\n",
              "      <td>0.00068</td>\n",
              "      <td>0.00678</td>\n",
              "      <td>0.00407</td>\n",
              "      <td>...</td>\n",
              "      <td>0.00136</td>\n",
              "      <td>0.01696</td>\n",
              "      <td>0.03596</td>\n",
              "      <td>0.01221</td>\n",
              "      <td>0.04545</td>\n",
              "      <td>0.01560</td>\n",
              "      <td>0.04410</td>\n",
              "      <td>0.00271</td>\n",
              "      <td>0.00068</td>\n",
              "      <td>0.00000</td>\n",
              "    </tr>\n",
              "    <tr>\n",
              "      <th>2</th>\n",
              "      <td>vrl</td>\n",
              "      <td>0</td>\n",
              "      <td>100755</td>\n",
              "      <td>4862</td>\n",
              "      <td>Sweet potato leaf curl virus</td>\n",
              "      <td>0.01974</td>\n",
              "      <td>0.0218</td>\n",
              "      <td>0.01357</td>\n",
              "      <td>0.01543</td>\n",
              "      <td>0.00782</td>\n",
              "      <td>...</td>\n",
              "      <td>0.00596</td>\n",
              "      <td>0.01974</td>\n",
              "      <td>0.02489</td>\n",
              "      <td>0.03126</td>\n",
              "      <td>0.02036</td>\n",
              "      <td>0.02242</td>\n",
              "      <td>0.02468</td>\n",
              "      <td>0.00391</td>\n",
              "      <td>0.00000</td>\n",
              "      <td>0.00144</td>\n",
              "    </tr>\n",
              "    <tr>\n",
              "      <th>3</th>\n",
              "      <td>vrl</td>\n",
              "      <td>0</td>\n",
              "      <td>100880</td>\n",
              "      <td>1915</td>\n",
              "      <td>Northern cereal mosaic virus</td>\n",
              "      <td>0.01775</td>\n",
              "      <td>0.02245</td>\n",
              "      <td>0.01619</td>\n",
              "      <td>0.00992</td>\n",
              "      <td>0.01567</td>\n",
              "      <td>...</td>\n",
              "      <td>0.00366</td>\n",
              "      <td>0.01410</td>\n",
              "      <td>0.01671</td>\n",
              "      <td>0.03760</td>\n",
              "      <td>0.01932</td>\n",
              "      <td>0.03029</td>\n",
              "      <td>0.03446</td>\n",
              "      <td>0.00261</td>\n",
              "      <td>0.00157</td>\n",
              "      <td>0.00000</td>\n",
              "    </tr>\n",
              "    <tr>\n",
              "      <th>4</th>\n",
              "      <td>vrl</td>\n",
              "      <td>0</td>\n",
              "      <td>100887</td>\n",
              "      <td>22831</td>\n",
              "      <td>Soil-borne cereal mosaic virus</td>\n",
              "      <td>0.02816</td>\n",
              "      <td>0.01371</td>\n",
              "      <td>0.00767</td>\n",
              "      <td>0.03679</td>\n",
              "      <td>0.01380</td>\n",
              "      <td>...</td>\n",
              "      <td>0.00604</td>\n",
              "      <td>0.01494</td>\n",
              "      <td>0.01734</td>\n",
              "      <td>0.04148</td>\n",
              "      <td>0.02483</td>\n",
              "      <td>0.03359</td>\n",
              "      <td>0.03679</td>\n",
              "      <td>0.00000</td>\n",
              "      <td>0.00044</td>\n",
              "      <td>0.00131</td>\n",
              "    </tr>\n",
              "  </tbody>\n",
              "</table>\n",
              "<p>5 rows × 69 columns</p>\n",
              "</div>\n",
              "      <button class=\"colab-df-convert\" onclick=\"convertToInteractive('df-8106fb36-2b95-4ca2-b20f-145d7be11d13')\"\n",
              "              title=\"Convert this dataframe to an interactive table.\"\n",
              "              style=\"display:none;\">\n",
              "        \n",
              "  <svg xmlns=\"http://www.w3.org/2000/svg\" height=\"24px\"viewBox=\"0 0 24 24\"\n",
              "       width=\"24px\">\n",
              "    <path d=\"M0 0h24v24H0V0z\" fill=\"none\"/>\n",
              "    <path d=\"M18.56 5.44l.94 2.06.94-2.06 2.06-.94-2.06-.94-.94-2.06-.94 2.06-2.06.94zm-11 1L8.5 8.5l.94-2.06 2.06-.94-2.06-.94L8.5 2.5l-.94 2.06-2.06.94zm10 10l.94 2.06.94-2.06 2.06-.94-2.06-.94-.94-2.06-.94 2.06-2.06.94z\"/><path d=\"M17.41 7.96l-1.37-1.37c-.4-.4-.92-.59-1.43-.59-.52 0-1.04.2-1.43.59L10.3 9.45l-7.72 7.72c-.78.78-.78 2.05 0 2.83L4 21.41c.39.39.9.59 1.41.59.51 0 1.02-.2 1.41-.59l7.78-7.78 2.81-2.81c.8-.78.8-2.07 0-2.86zM5.41 20L4 18.59l7.72-7.72 1.47 1.35L5.41 20z\"/>\n",
              "  </svg>\n",
              "      </button>\n",
              "      \n",
              "  <style>\n",
              "    .colab-df-container {\n",
              "      display:flex;\n",
              "      flex-wrap:wrap;\n",
              "      gap: 12px;\n",
              "    }\n",
              "\n",
              "    .colab-df-convert {\n",
              "      background-color: #E8F0FE;\n",
              "      border: none;\n",
              "      border-radius: 50%;\n",
              "      cursor: pointer;\n",
              "      display: none;\n",
              "      fill: #1967D2;\n",
              "      height: 32px;\n",
              "      padding: 0 0 0 0;\n",
              "      width: 32px;\n",
              "    }\n",
              "\n",
              "    .colab-df-convert:hover {\n",
              "      background-color: #E2EBFA;\n",
              "      box-shadow: 0px 1px 2px rgba(60, 64, 67, 0.3), 0px 1px 3px 1px rgba(60, 64, 67, 0.15);\n",
              "      fill: #174EA6;\n",
              "    }\n",
              "\n",
              "    [theme=dark] .colab-df-convert {\n",
              "      background-color: #3B4455;\n",
              "      fill: #D2E3FC;\n",
              "    }\n",
              "\n",
              "    [theme=dark] .colab-df-convert:hover {\n",
              "      background-color: #434B5C;\n",
              "      box-shadow: 0px 1px 3px 1px rgba(0, 0, 0, 0.15);\n",
              "      filter: drop-shadow(0px 1px 2px rgba(0, 0, 0, 0.3));\n",
              "      fill: #FFFFFF;\n",
              "    }\n",
              "  </style>\n",
              "\n",
              "      <script>\n",
              "        const buttonEl =\n",
              "          document.querySelector('#df-8106fb36-2b95-4ca2-b20f-145d7be11d13 button.colab-df-convert');\n",
              "        buttonEl.style.display =\n",
              "          google.colab.kernel.accessAllowed ? 'block' : 'none';\n",
              "\n",
              "        async function convertToInteractive(key) {\n",
              "          const element = document.querySelector('#df-8106fb36-2b95-4ca2-b20f-145d7be11d13');\n",
              "          const dataTable =\n",
              "            await google.colab.kernel.invokeFunction('convertToInteractive',\n",
              "                                                     [key], {});\n",
              "          if (!dataTable) return;\n",
              "\n",
              "          const docLinkHtml = 'Like what you see? Visit the ' +\n",
              "            '<a target=\"_blank\" href=https://colab.research.google.com/notebooks/data_table.ipynb>data table notebook</a>'\n",
              "            + ' to learn more about interactive tables.';\n",
              "          element.innerHTML = '';\n",
              "          dataTable['output_type'] = 'display_data';\n",
              "          await google.colab.output.renderOutput(dataTable, element);\n",
              "          const docLink = document.createElement('div');\n",
              "          docLink.innerHTML = docLinkHtml;\n",
              "          element.appendChild(docLink);\n",
              "        }\n",
              "      </script>\n",
              "    </div>\n",
              "  </div>\n",
              "  "
            ]
          },
          "metadata": {},
          "execution_count": 63
        }
      ]
    },
    {
      "cell_type": "code",
      "source": [
        "len(df)"
      ],
      "metadata": {
        "colab": {
          "base_uri": "https://localhost:8080/"
        },
        "id": "Q0bmmKo0DDaj",
        "outputId": "a02c3dde-e849-4ed2-df7d-aef2f9a407fe"
      },
      "execution_count": null,
      "outputs": [
        {
          "output_type": "execute_result",
          "data": {
            "text/plain": [
              "13028"
            ]
          },
          "metadata": {},
          "execution_count": 64
        }
      ]
    },
    {
      "cell_type": "code",
      "source": [
        "df.info()"
      ],
      "metadata": {
        "colab": {
          "base_uri": "https://localhost:8080/"
        },
        "id": "EU8veuxAFDet",
        "outputId": "10fc6511-1cd2-413b-8a51-1c7926c46f5a"
      },
      "execution_count": null,
      "outputs": [
        {
          "output_type": "stream",
          "name": "stdout",
          "text": [
            "<class 'pandas.core.frame.DataFrame'>\n",
            "RangeIndex: 13028 entries, 0 to 13027\n",
            "Data columns (total 69 columns):\n",
            " #   Column       Non-Null Count  Dtype  \n",
            "---  ------       --------------  -----  \n",
            " 0   Kingdom      13028 non-null  object \n",
            " 1   DNAtype      13028 non-null  int64  \n",
            " 2   SpeciesID    13028 non-null  int64  \n",
            " 3   Ncodons      13028 non-null  int64  \n",
            " 4   SpeciesName  13028 non-null  object \n",
            " 5   UUU          13028 non-null  object \n",
            " 6   UUC          13028 non-null  object \n",
            " 7   UUA          13028 non-null  float64\n",
            " 8   UUG          13028 non-null  float64\n",
            " 9   CUU          13028 non-null  float64\n",
            " 10  CUC          13028 non-null  float64\n",
            " 11  CUA          13028 non-null  float64\n",
            " 12  CUG          13028 non-null  float64\n",
            " 13  AUU          13028 non-null  float64\n",
            " 14  AUC          13028 non-null  float64\n",
            " 15  AUA          13028 non-null  float64\n",
            " 16  AUG          13028 non-null  float64\n",
            " 17  GUU          13028 non-null  float64\n",
            " 18  GUC          13028 non-null  float64\n",
            " 19  GUA          13028 non-null  float64\n",
            " 20  GUG          13028 non-null  float64\n",
            " 21  GCU          13028 non-null  float64\n",
            " 22  GCC          13028 non-null  float64\n",
            " 23  GCA          13028 non-null  float64\n",
            " 24  GCG          13028 non-null  float64\n",
            " 25  CCU          13028 non-null  float64\n",
            " 26  CCC          13028 non-null  float64\n",
            " 27  CCA          13028 non-null  float64\n",
            " 28  CCG          13028 non-null  float64\n",
            " 29  UGG          13028 non-null  float64\n",
            " 30  GGU          13028 non-null  float64\n",
            " 31  GGC          13028 non-null  float64\n",
            " 32  GGA          13028 non-null  float64\n",
            " 33  GGG          13028 non-null  float64\n",
            " 34  UCU          13028 non-null  float64\n",
            " 35  UCC          13028 non-null  float64\n",
            " 36  UCA          13028 non-null  float64\n",
            " 37  UCG          13028 non-null  float64\n",
            " 38  AGU          13028 non-null  float64\n",
            " 39  AGC          13028 non-null  float64\n",
            " 40  ACU          13028 non-null  float64\n",
            " 41  ACC          13028 non-null  float64\n",
            " 42  ACA          13028 non-null  float64\n",
            " 43  ACG          13028 non-null  float64\n",
            " 44  UAU          13028 non-null  float64\n",
            " 45  UAC          13028 non-null  float64\n",
            " 46  CAA          13028 non-null  float64\n",
            " 47  CAG          13028 non-null  float64\n",
            " 48  AAU          13028 non-null  float64\n",
            " 49  AAC          13028 non-null  float64\n",
            " 50  UGU          13028 non-null  float64\n",
            " 51  UGC          13028 non-null  float64\n",
            " 52  CAU          13028 non-null  float64\n",
            " 53  CAC          13028 non-null  float64\n",
            " 54  AAA          13028 non-null  float64\n",
            " 55  AAG          13028 non-null  float64\n",
            " 56  CGU          13028 non-null  float64\n",
            " 57  CGC          13028 non-null  float64\n",
            " 58  CGA          13028 non-null  float64\n",
            " 59  CGG          13028 non-null  float64\n",
            " 60  AGA          13028 non-null  float64\n",
            " 61  AGG          13028 non-null  float64\n",
            " 62  GAU          13028 non-null  float64\n",
            " 63  GAC          13028 non-null  float64\n",
            " 64  GAA          13028 non-null  float64\n",
            " 65  GAG          13028 non-null  float64\n",
            " 66  UAA          13028 non-null  float64\n",
            " 67  UAG          13028 non-null  float64\n",
            " 68  UGA          13028 non-null  float64\n",
            "dtypes: float64(62), int64(3), object(4)\n",
            "memory usage: 6.9+ MB\n"
          ]
        }
      ]
    },
    {
      "cell_type": "code",
      "source": [
        "import matplotlib.pyplot as plt\n",
        "import seaborn as sns\n",
        "%matplotlib inline "
      ],
      "metadata": {
        "id": "SF7ylrMZG5VU"
      },
      "execution_count": null,
      "outputs": []
    },
    {
      "cell_type": "code",
      "source": [
        "df['Kingdom'].value_counts()"
      ],
      "metadata": {
        "colab": {
          "base_uri": "https://localhost:8080/"
        },
        "id": "C-BoqxjVQtoJ",
        "outputId": "ff7557e5-4f95-4a3e-aec5-7c4bf5f3232c"
      },
      "execution_count": null,
      "outputs": [
        {
          "output_type": "execute_result",
          "data": {
            "text/plain": [
              "bct    2920\n",
              "vrl    2832\n",
              "pln    2523\n",
              "vrt    2077\n",
              "inv    1345\n",
              "mam     572\n",
              "phg     220\n",
              "rod     215\n",
              "pri     180\n",
              "arc     126\n",
              "plm      18\n",
              "Name: Kingdom, dtype: int64"
            ]
          },
          "metadata": {},
          "execution_count": 67
        }
      ]
    },
    {
      "cell_type": "code",
      "source": [
        "df['DNAtype'].value_counts()"
      ],
      "metadata": {
        "colab": {
          "base_uri": "https://localhost:8080/"
        },
        "id": "f-X3zRb-Q0rQ",
        "outputId": "f7faaabe-858c-4eeb-d0fb-19e1a3fc452e"
      },
      "execution_count": null,
      "outputs": [
        {
          "output_type": "execute_result",
          "data": {
            "text/plain": [
              "0     9267\n",
              "1     2899\n",
              "2      816\n",
              "4       31\n",
              "12       5\n",
              "3        2\n",
              "9        2\n",
              "5        2\n",
              "11       2\n",
              "6        1\n",
              "7        1\n",
              "Name: DNAtype, dtype: int64"
            ]
          },
          "metadata": {},
          "execution_count": 68
        }
      ]
    },
    {
      "cell_type": "code",
      "source": [
        "sns.countplot(df['Kingdom'])"
      ],
      "metadata": {
        "colab": {
          "base_uri": "https://localhost:8080/",
          "height": 351
        },
        "id": "ezFtTScbSAc_",
        "outputId": "0f14fc06-55bd-4702-9da5-39b472defb3e"
      },
      "execution_count": null,
      "outputs": [
        {
          "output_type": "stream",
          "name": "stderr",
          "text": [
            "/usr/local/lib/python3.7/dist-packages/seaborn/_decorators.py:43: FutureWarning: Pass the following variable as a keyword arg: x. From version 0.12, the only valid positional argument will be `data`, and passing other arguments without an explicit keyword will result in an error or misinterpretation.\n",
            "  FutureWarning\n"
          ]
        },
        {
          "output_type": "execute_result",
          "data": {
            "text/plain": [
              "<matplotlib.axes._subplots.AxesSubplot at 0x7f9c7248e150>"
            ]
          },
          "metadata": {},
          "execution_count": 69
        },
        {
          "output_type": "display_data",
          "data": {
            "text/plain": [
              "<Figure size 432x288 with 1 Axes>"
            ],
            "image/png": "[encoded data removed]"
          },
          "metadata": {
            "needs_background": "light"
          }
        }
      ]
    },
    {
      "cell_type": "code",
      "source": [
        "sns.countplot(df['DNAtype'])"
      ],
      "metadata": {
        "colab": {
          "base_uri": "https://localhost:8080/",
          "height": 351
        },
        "id": "8EtxSlPrSR9B",
        "outputId": "8f4ef0e2-4990-4d4f-c5cc-8df51362859d"
      },
      "execution_count": null,
      "outputs": [
        {
          "output_type": "stream",
          "name": "stderr",
          "text": [
            "/usr/local/lib/python3.7/dist-packages/seaborn/_decorators.py:43: FutureWarning: Pass the following variable as a keyword arg: x. From version 0.12, the only valid positional argument will be `data`, and passing other arguments without an explicit keyword will result in an error or misinterpretation.\n",
            "  FutureWarning\n"
          ]
        },
        {
          "output_type": "execute_result",
          "data": {
            "text/plain": [
              "<matplotlib.axes._subplots.AxesSubplot at 0x7f9c47b62850>"
            ]
          },
          "metadata": {},
          "execution_count": 70
        },
        {
          "output_type": "display_data",
          "data": {
            "text/plain": [
              "<Figure size 432x288 with 1 Axes>"
            ],
            "image/png": "[encoded data removed]"
          },
          "metadata": {
            "needs_background": "light"
          }
        }
      ]
    },
    {
      "cell_type": "code",
      "source": [
        "df.nunique()"
      ],
      "metadata": {
        "colab": {
          "base_uri": "https://localhost:8080/"
        },
        "id": "3ALDiveTUgIB",
        "outputId": "474c443a-3b48-496b-d203-02de1d6ac97e"
      },
      "execution_count": null,
      "outputs": [
        {
          "output_type": "execute_result",
          "data": {
            "text/plain": [
              "Kingdom           11\n",
              "DNAtype           11\n",
              "SpeciesID      12368\n",
              "Ncodons         7103\n",
              "SpeciesName    13016\n",
              "               ...  \n",
              "GAA             4827\n",
              "GAG             4686\n",
              "UAA              703\n",
              "UAG              422\n",
              "UGA             1786\n",
              "Length: 69, dtype: int64"
            ]
          },
          "metadata": {},
          "execution_count": 71
        }
      ]
    },
    {
      "cell_type": "code",
      "source": [
        "df.isna().sum()"
      ],
      "metadata": {
        "colab": {
          "base_uri": "https://localhost:8080/"
        },
        "id": "4ma77msbVjn3",
        "outputId": "21377dd2-106a-41b9-a329-ae342f4229c7"
      },
      "execution_count": null,
      "outputs": [
        {
          "output_type": "execute_result",
          "data": {
            "text/plain": [
              "Kingdom        0\n",
              "DNAtype        0\n",
              "SpeciesID      0\n",
              "Ncodons        0\n",
              "SpeciesName    0\n",
              "              ..\n",
              "GAA            0\n",
              "GAG            0\n",
              "UAA            0\n",
              "UAG            0\n",
              "UGA            0\n",
              "Length: 69, dtype: int64"
            ]
          },
          "metadata": {},
          "execution_count": 72
        }
      ]
    },
    {
      "cell_type": "code",
      "source": [
        "numeric_feature = [feature for feature in df.columns if ((df[feature].dtypes !='O') & (feature not in ['Kingdom']))]"
      ],
      "metadata": {
        "id": "iWC_g_jlWe1Y"
      },
      "execution_count": null,
      "outputs": []
    },
    {
      "cell_type": "code",
      "source": [
        "plt.figure(figsize=(20,60))\n",
        "plotnumber2 = 1\n",
        "for numeric_f in numeric_feature:\n",
        "    if plotnumber2 <= 9:\n",
        "      ax = plt.subplot(12, 3, plotnumber2)\n",
        "      sns.histplot(df[numeric_f])\n",
        "      plt.xlabel(numeric_f)    \n",
        "    plotnumber2+=1\n",
        "plt.show()"
      ],
      "metadata": {
        "colab": {
          "base_uri": "https://localhost:8080/",
          "height": 847
        },
        "id": "EwaNDYK3V1Ze",
        "outputId": "0b61e031-eb5b-441f-aa6d-7115eb0c7633"
      },
      "execution_count": null,
      "outputs": [
        {
          "output_type": "display_data",
          "data": {
            "text/plain": [
              "<Figure size 1440x4320 with 9 Axes>"
            ],
            "image/png": "[encoded data removed]"
          },
          "metadata": {
            "needs_background": "light"
          }
        }
      ]
    },
    {
      "cell_type": "code",
      "source": [
        ""
      ],
      "metadata": {
        "id": "JCBsVF_PqWeB"
      },
      "execution_count": null,
      "outputs": []
    },
    {
      "cell_type": "code",
      "source": [
        "plt.figure(figsize=(20,60))\n",
        "plotnumber3 = 1\n",
        "for numeric_f in numeric_feature:\n",
        "  if plotnumber3 <= 9:\n",
        "    ax = plt.subplot(12, 3, plotnumber3)\n",
        "    sns.boxplot(x='Kingdom', y = df[numeric_f], data=df)\n",
        "    plt.xlabel(numeric_f)    \n",
        "  plotnumber3+=1\n",
        "plt.show()"
      ],
      "metadata": {
        "colab": {
          "base_uri": "https://localhost:8080/",
          "height": 854
        },
        "id": "WL4QccvMZIMP",
        "outputId": "c423fd9a-5d48-4030-f482-0ef27fcab60e"
      },
      "execution_count": null,
      "outputs": [
        {
          "output_type": "display_data",
          "data": {
            "text/plain": [
              "<Figure size 1440x4320 with 9 Axes>"
            ],
            "image/png": "[encoded data removed]"
          },
          "metadata": {
            "needs_background": "light"
          }
        }
      ]
    },
    {
      "cell_type": "code",
      "source": [
        "print(\"Cantidad de registros duplicados:\", len(df[df.duplicated(subset=None, keep = 'last')]))"
      ],
      "metadata": {
        "colab": {
          "base_uri": "https://localhost:8080/"
        },
        "id": "AbuIkOS-Z23Q",
        "outputId": "36bdceed-9a46-4eba-8660-875af6af2aa0"
      },
      "execution_count": null,
      "outputs": [
        {
          "output_type": "stream",
          "name": "stdout",
          "text": [
            "Cantidad de registros duplicados: 0\n"
          ]
        }
      ]
    },
    {
      "cell_type": "code",
      "source": [
        "df.groupby('UUU')['SpeciesID'].count()['12;I']"
      ],
      "metadata": {
        "colab": {
          "base_uri": "https://localhost:8080/"
        },
        "id": "uGR60IrvqwSy",
        "outputId": "7d106f72-2fd9-43e4-cf61-f8444ab10ab6"
      },
      "execution_count": null,
      "outputs": [
        {
          "output_type": "execute_result",
          "data": {
            "text/plain": [
              "1"
            ]
          },
          "metadata": {},
          "execution_count": 77
        }
      ]
    },
    {
      "cell_type": "code",
      "source": [
        "df.groupby('UUU').count()"
      ],
      "metadata": {
        "colab": {
          "base_uri": "https://localhost:8080/",
          "height": 455
        },
        "id": "5v8niV3xjB_H",
        "outputId": "0aced2a6-033f-4338-b945-a04c5d4b685d"
      },
      "execution_count": null,
      "outputs": [
        {
          "output_type": "execute_result",
          "data": {
            "text/plain": [
              "                       Kingdom  DNAtype  SpeciesID  Ncodons  SpeciesName  UUC  \\\n",
              "UUU                                                                             \n",
              "0.0                         12       12         12       12           12   12   \n",
              "2e-05                        1        1          1        1            1    1   \n",
              "0.00063                      1        1          1        1            1    1   \n",
              "0.00085                      1        1          1        1            1    1   \n",
              "0.00094                      1        1          1        1            1    1   \n",
              "...                        ...      ...        ...      ...          ...  ...   \n",
              "0.11175                      1        1          1        1            1    1   \n",
              "0.12274                      1        1          1        1            1    1   \n",
              "0.12983                      1        1          1        1            1    1   \n",
              "12;I                         1        1          1        1            1    1   \n",
              "non-B hepatitis virus        1        1          1        1            1    1   \n",
              "\n",
              "                       UUA  UUG  CUU  CUC  ...  CGG  AGA  AGG  GAU  GAC  GAA  \\\n",
              "UUU                                        ...                                 \n",
              "0.0                     12   12   12   12  ...   12   12   12   12   12   12   \n",
              "2e-05                    1    1    1    1  ...    1    1    1    1    1    1   \n",
              "0.00063                  1    1    1    1  ...    1    1    1    1    1    1   \n",
              "0.00085                  1    1    1    1  ...    1    1    1    1    1    1   \n",
              "0.00094                  1    1    1    1  ...    1    1    1    1    1    1   \n",
              "...                    ...  ...  ...  ...  ...  ...  ...  ...  ...  ...  ...   \n",
              "0.11175                  1    1    1    1  ...    1    1    1    1    1    1   \n",
              "0.12274                  1    1    1    1  ...    1    1    1    1    1    1   \n",
              "0.12983                  1    1    1    1  ...    1    1    1    1    1    1   \n",
              "12;I                     1    1    1    1  ...    1    1    1    1    1    1   \n",
              "non-B hepatitis virus    1    1    1    1  ...    1    1    1    1    1    1   \n",
              "\n",
              "                       GAG  UAA  UAG  UGA  \n",
              "UUU                                        \n",
              "0.0                     12   12   12   12  \n",
              "2e-05                    1    1    1    1  \n",
              "0.00063                  1    1    1    1  \n",
              "0.00085                  1    1    1    1  \n",
              "0.00094                  1    1    1    1  \n",
              "...                    ...  ...  ...  ...  \n",
              "0.11175                  1    1    1    1  \n",
              "0.12274                  1    1    1    1  \n",
              "0.12983                  1    1    1    1  \n",
              "12;I                     1    1    1    1  \n",
              "non-B hepatitis virus    1    1    1    1  \n",
              "\n",
              "[6797 rows x 68 columns]"
            ],
            "text/html": [
              "\n",
              "  <div id=\"df-5959aeea-1db6-4a60-9703-67356587fcbe\">\n",
              "    <div class=\"colab-df-container\">\n",
              "      <div>\n",
              "<style scoped>\n",
              "    .dataframe tbody tr th:only-of-type {\n",
              "        vertical-align: middle;\n",
              "    }\n",
              "\n",
              "    .dataframe tbody tr th {\n",
              "        vertical-align: top;\n",
              "    }\n",
              "\n",
              "    .dataframe thead th {\n",
              "        text-align: right;\n",
              "    }\n",
              "</style>\n",
              "<table border=\"1\" class=\"dataframe\">\n",
              "  <thead>\n",
              "    <tr style=\"text-align: right;\">\n",
              "      <th></th>\n",
              "      <th>Kingdom</th>\n",
              "      <th>DNAtype</th>\n",
              "      <th>SpeciesID</th>\n",
              "      <th>Ncodons</th>\n",
              "      <th>SpeciesName</th>\n",
              "      <th>UUC</th>\n",
              "      <th>UUA</th>\n",
              "      <th>UUG</th>\n",
              "      <th>CUU</th>\n",
              "      <th>CUC</th>\n",
              "      <th>...</th>\n",
              "      <th>CGG</th>\n",
              "      <th>AGA</th>\n",
              "      <th>AGG</th>\n",
              "      <th>GAU</th>\n",
              "      <th>GAC</th>\n",
              "      <th>GAA</th>\n",
              "      <th>GAG</th>\n",
              "      <th>UAA</th>\n",
              "      <th>UAG</th>\n",
              "      <th>UGA</th>\n",
              "    </tr>\n",
              "    <tr>\n",
              "      <th>UUU</th>\n",
              "      <th></th>\n",
              "      <th></th>\n",
              "      <th></th>\n",
              "      <th></th>\n",
              "      <th></th>\n",
              "      <th></th>\n",
              "      <th></th>\n",
              "      <th></th>\n",
              "      <th></th>\n",
              "      <th></th>\n",
              "      <th></th>\n",
              "      <th></th>\n",
              "      <th></th>\n",
              "      <th></th>\n",
              "      <th></th>\n",
              "      <th></th>\n",
              "      <th></th>\n",
              "      <th></th>\n",
              "      <th></th>\n",
              "      <th></th>\n",
              "      <th></th>\n",
              "    </tr>\n",
              "  </thead>\n",
              "  <tbody>\n",
              "    <tr>\n",
              "      <th>0.0</th>\n",
              "      <td>12</td>\n",
              "      <td>12</td>\n",
              "      <td>12</td>\n",
              "      <td>12</td>\n",
              "      <td>12</td>\n",
              "      <td>12</td>\n",
              "      <td>12</td>\n",
              "      <td>12</td>\n",
              "      <td>12</td>\n",
              "      <td>12</td>\n",
              "      <td>...</td>\n",
              "      <td>12</td>\n",
              "      <td>12</td>\n",
              "      <td>12</td>\n",
              "      <td>12</td>\n",
              "      <td>12</td>\n",
              "      <td>12</td>\n",
              "      <td>12</td>\n",
              "      <td>12</td>\n",
              "      <td>12</td>\n",
              "      <td>12</td>\n",
              "    </tr>\n",
              "    <tr>\n",
              "      <th>2e-05</th>\n",
              "      <td>1</td>\n",
              "      <td>1</td>\n",
              "      <td>1</td>\n",
              "      <td>1</td>\n",
              "      <td>1</td>\n",
              "      <td>1</td>\n",
              "      <td>1</td>\n",
              "      <td>1</td>\n",
              "      <td>1</td>\n",
              "      <td>1</td>\n",
              "      <td>...</td>\n",
              "      <td>1</td>\n",
              "      <td>1</td>\n",
              "      <td>1</td>\n",
              "      <td>1</td>\n",
              "      <td>1</td>\n",
              "      <td>1</td>\n",
              "      <td>1</td>\n",
              "      <td>1</td>\n",
              "      <td>1</td>\n",
              "      <td>1</td>\n",
              "    </tr>\n",
              "    <tr>\n",
              "      <th>0.00063</th>\n",
              "      <td>1</td>\n",
              "      <td>1</td>\n",
              "      <td>1</td>\n",
              "      <td>1</td>\n",
              "      <td>1</td>\n",
              "      <td>1</td>\n",
              "      <td>1</td>\n",
              "      <td>1</td>\n",
              "      <td>1</td>\n",
              "      <td>1</td>\n",
              "      <td>...</td>\n",
              "      <td>1</td>\n",
              "      <td>1</td>\n",
              "      <td>1</td>\n",
              "      <td>1</td>\n",
              "      <td>1</td>\n",
              "      <td>1</td>\n",
              "      <td>1</td>\n",
              "      <td>1</td>\n",
              "      <td>1</td>\n",
              "      <td>1</td>\n",
              "    </tr>\n",
              "    <tr>\n",
              "      <th>0.00085</th>\n",
              "      <td>1</td>\n",
              "      <td>1</td>\n",
              "      <td>1</td>\n",
              "      <td>1</td>\n",
              "      <td>1</td>\n",
              "      <td>1</td>\n",
              "      <td>1</td>\n",
              "      <td>1</td>\n",
              "      <td>1</td>\n",
              "      <td>1</td>\n",
              "      <td>...</td>\n",
              "      <td>1</td>\n",
              "      <td>1</td>\n",
              "      <td>1</td>\n",
              "      <td>1</td>\n",
              "      <td>1</td>\n",
              "      <td>1</td>\n",
              "      <td>1</td>\n",
              "      <td>1</td>\n",
              "      <td>1</td>\n",
              "      <td>1</td>\n",
              "    </tr>\n",
              "    <tr>\n",
              "      <th>0.00094</th>\n",
              "      <td>1</td>\n",
              "      <td>1</td>\n",
              "      <td>1</td>\n",
              "      <td>1</td>\n",
              "      <td>1</td>\n",
              "      <td>1</td>\n",
              "      <td>1</td>\n",
              "      <td>1</td>\n",
              "      <td>1</td>\n",
              "      <td>1</td>\n",
              "      <td>...</td>\n",
              "      <td>1</td>\n",
              "      <td>1</td>\n",
              "      <td>1</td>\n",
              "      <td>1</td>\n",
              "      <td>1</td>\n",
              "      <td>1</td>\n",
              "      <td>1</td>\n",
              "      <td>1</td>\n",
              "      <td>1</td>\n",
              "      <td>1</td>\n",
              "    </tr>\n",
              "    <tr>\n",
              "      <th>...</th>\n",
              "      <td>...</td>\n",
              "      <td>...</td>\n",
              "      <td>...</td>\n",
              "      <td>...</td>\n",
              "      <td>...</td>\n",
              "      <td>...</td>\n",
              "      <td>...</td>\n",
              "      <td>...</td>\n",
              "      <td>...</td>\n",
              "      <td>...</td>\n",
              "      <td>...</td>\n",
              "      <td>...</td>\n",
              "      <td>...</td>\n",
              "      <td>...</td>\n",
              "      <td>...</td>\n",
              "      <td>...</td>\n",
              "      <td>...</td>\n",
              "      <td>...</td>\n",
              "      <td>...</td>\n",
              "      <td>...</td>\n",
              "      <td>...</td>\n",
              "    </tr>\n",
              "    <tr>\n",
              "      <th>0.11175</th>\n",
              "      <td>1</td>\n",
              "      <td>1</td>\n",
              "      <td>1</td>\n",
              "      <td>1</td>\n",
              "      <td>1</td>\n",
              "      <td>1</td>\n",
              "      <td>1</td>\n",
              "      <td>1</td>\n",
              "      <td>1</td>\n",
              "      <td>1</td>\n",
              "      <td>...</td>\n",
              "      <td>1</td>\n",
              "      <td>1</td>\n",
              "      <td>1</td>\n",
              "      <td>1</td>\n",
              "      <td>1</td>\n",
              "      <td>1</td>\n",
              "      <td>1</td>\n",
              "      <td>1</td>\n",
              "      <td>1</td>\n",
              "      <td>1</td>\n",
              "    </tr>\n",
              "    <tr>\n",
              "      <th>0.12274</th>\n",
              "      <td>1</td>\n",
              "      <td>1</td>\n",
              "      <td>1</td>\n",
              "      <td>1</td>\n",
              "      <td>1</td>\n",
              "      <td>1</td>\n",
              "      <td>1</td>\n",
              "      <td>1</td>\n",
              "      <td>1</td>\n",
              "      <td>1</td>\n",
              "      <td>...</td>\n",
              "      <td>1</td>\n",
              "      <td>1</td>\n",
              "      <td>1</td>\n",
              "      <td>1</td>\n",
              "      <td>1</td>\n",
              "      <td>1</td>\n",
              "      <td>1</td>\n",
              "      <td>1</td>\n",
              "      <td>1</td>\n",
              "      <td>1</td>\n",
              "    </tr>\n",
              "    <tr>\n",
              "      <th>0.12983</th>\n",
              "      <td>1</td>\n",
              "      <td>1</td>\n",
              "      <td>1</td>\n",
              "      <td>1</td>\n",
              "      <td>1</td>\n",
              "      <td>1</td>\n",
              "      <td>1</td>\n",
              "      <td>1</td>\n",
              "      <td>1</td>\n",
              "      <td>1</td>\n",
              "      <td>...</td>\n",
              "      <td>1</td>\n",
              "      <td>1</td>\n",
              "      <td>1</td>\n",
              "      <td>1</td>\n",
              "      <td>1</td>\n",
              "      <td>1</td>\n",
              "      <td>1</td>\n",
              "      <td>1</td>\n",
              "      <td>1</td>\n",
              "      <td>1</td>\n",
              "    </tr>\n",
              "    <tr>\n",
              "      <th>12;I</th>\n",
              "      <td>1</td>\n",
              "      <td>1</td>\n",
              "      <td>1</td>\n",
              "      <td>1</td>\n",
              "      <td>1</td>\n",
              "      <td>1</td>\n",
              "      <td>1</td>\n",
              "      <td>1</td>\n",
              "      <td>1</td>\n",
              "      <td>1</td>\n",
              "      <td>...</td>\n",
              "      <td>1</td>\n",
              "      <td>1</td>\n",
              "      <td>1</td>\n",
              "      <td>1</td>\n",
              "      <td>1</td>\n",
              "      <td>1</td>\n",
              "      <td>1</td>\n",
              "      <td>1</td>\n",
              "      <td>1</td>\n",
              "      <td>1</td>\n",
              "    </tr>\n",
              "    <tr>\n",
              "      <th>non-B hepatitis virus</th>\n",
              "      <td>1</td>\n",
              "      <td>1</td>\n",
              "      <td>1</td>\n",
              "      <td>1</td>\n",
              "      <td>1</td>\n",
              "      <td>1</td>\n",
              "      <td>1</td>\n",
              "      <td>1</td>\n",
              "      <td>1</td>\n",
              "      <td>1</td>\n",
              "      <td>...</td>\n",
              "      <td>1</td>\n",
              "      <td>1</td>\n",
              "      <td>1</td>\n",
              "      <td>1</td>\n",
              "      <td>1</td>\n",
              "      <td>1</td>\n",
              "      <td>1</td>\n",
              "      <td>1</td>\n",
              "      <td>1</td>\n",
              "      <td>1</td>\n",
              "    </tr>\n",
              "  </tbody>\n",
              "</table>\n",
              "<p>6797 rows × 68 columns</p>\n",
              "</div>\n",
              "      <button class=\"colab-df-convert\" onclick=\"convertToInteractive('df-5959aeea-1db6-4a60-9703-67356587fcbe')\"\n",
              "              title=\"Convert this dataframe to an interactive table.\"\n",
              "              style=\"display:none;\">\n",
              "        \n",
              "  <svg xmlns=\"http://www.w3.org/2000/svg\" height=\"24px\"viewBox=\"0 0 24 24\"\n",
              "       width=\"24px\">\n",
              "    <path d=\"M0 0h24v24H0V0z\" fill=\"none\"/>\n",
              "    <path d=\"M18.56 5.44l.94 2.06.94-2.06 2.06-.94-2.06-.94-.94-2.06-.94 2.06-2.06.94zm-11 1L8.5 8.5l.94-2.06 2.06-.94-2.06-.94L8.5 2.5l-.94 2.06-2.06.94zm10 10l.94 2.06.94-2.06 2.06-.94-2.06-.94-.94-2.06-.94 2.06-2.06.94z\"/><path d=\"M17.41 7.96l-1.37-1.37c-.4-.4-.92-.59-1.43-.59-.52 0-1.04.2-1.43.59L10.3 9.45l-7.72 7.72c-.78.78-.78 2.05 0 2.83L4 21.41c.39.39.9.59 1.41.59.51 0 1.02-.2 1.41-.59l7.78-7.78 2.81-2.81c.8-.78.8-2.07 0-2.86zM5.41 20L4 18.59l7.72-7.72 1.47 1.35L5.41 20z\"/>\n",
              "  </svg>\n",
              "      </button>\n",
              "      \n",
              "  <style>\n",
              "    .colab-df-container {\n",
              "      display:flex;\n",
              "      flex-wrap:wrap;\n",
              "      gap: 12px;\n",
              "    }\n",
              "\n",
              "    .colab-df-convert {\n",
              "      background-color: #E8F0FE;\n",
              "      border: none;\n",
              "      border-radius: 50%;\n",
              "      cursor: pointer;\n",
              "      display: none;\n",
              "      fill: #1967D2;\n",
              "      height: 32px;\n",
              "      padding: 0 0 0 0;\n",
              "      width: 32px;\n",
              "    }\n",
              "\n",
              "    .colab-df-convert:hover {\n",
              "      background-color: #E2EBFA;\n",
              "      box-shadow: 0px 1px 2px rgba(60, 64, 67, 0.3), 0px 1px 3px 1px rgba(60, 64, 67, 0.15);\n",
              "      fill: #174EA6;\n",
              "    }\n",
              "\n",
              "    [theme=dark] .colab-df-convert {\n",
              "      background-color: #3B4455;\n",
              "      fill: #D2E3FC;\n",
              "    }\n",
              "\n",
              "    [theme=dark] .colab-df-convert:hover {\n",
              "      background-color: #434B5C;\n",
              "      box-shadow: 0px 1px 3px 1px rgba(0, 0, 0, 0.15);\n",
              "      filter: drop-shadow(0px 1px 2px rgba(0, 0, 0, 0.3));\n",
              "      fill: #FFFFFF;\n",
              "    }\n",
              "  </style>\n",
              "\n",
              "      <script>\n",
              "        const buttonEl =\n",
              "          document.querySelector('#df-5959aeea-1db6-4a60-9703-67356587fcbe button.colab-df-convert');\n",
              "        buttonEl.style.display =\n",
              "          google.colab.kernel.accessAllowed ? 'block' : 'none';\n",
              "\n",
              "        async function convertToInteractive(key) {\n",
              "          const element = document.querySelector('#df-5959aeea-1db6-4a60-9703-67356587fcbe');\n",
              "          const dataTable =\n",
              "            await google.colab.kernel.invokeFunction('convertToInteractive',\n",
              "                                                     [key], {});\n",
              "          if (!dataTable) return;\n",
              "\n",
              "          const docLinkHtml = 'Like what you see? Visit the ' +\n",
              "            '<a target=\"_blank\" href=https://colab.research.google.com/notebooks/data_table.ipynb>data table notebook</a>'\n",
              "            + ' to learn more about interactive tables.';\n",
              "          element.innerHTML = '';\n",
              "          dataTable['output_type'] = 'display_data';\n",
              "          await google.colab.output.renderOutput(dataTable, element);\n",
              "          const docLink = document.createElement('div');\n",
              "          docLink.innerHTML = docLinkHtml;\n",
              "          element.appendChild(docLink);\n",
              "        }\n",
              "      </script>\n",
              "    </div>\n",
              "  </div>\n",
              "  "
            ]
          },
          "metadata": {},
          "execution_count": 78
        }
      ]
    },
    {
      "cell_type": "code",
      "source": [
        "df.groupby('UUC')['SpeciesID'].count()['-']"
      ],
      "metadata": {
        "colab": {
          "base_uri": "https://localhost:8080/"
        },
        "id": "2bQGI4t2jnSr",
        "outputId": "91164474-10fa-4f6b-c268-17fa58fdcfe4"
      },
      "execution_count": null,
      "outputs": [
        {
          "output_type": "execute_result",
          "data": {
            "text/plain": [
              "1"
            ]
          },
          "metadata": {},
          "execution_count": 79
        }
      ]
    },
    {
      "cell_type": "code",
      "source": [
        "import numpy as np\n",
        "\n",
        "df['UUU'] = df['UUU'].replace(['non-B hepatitis virus','12;I'], np.nan)\n",
        "df['UUC'] = df['UUC'].replace('-', np.nan)\n",
        "df['UUU'] = df['UUU'].astype('float32')\n",
        "df['UUC'] = df['UUC'].astype('float32')"
      ],
      "metadata": {
        "id": "0dQaNdN8jW4t"
      },
      "execution_count": null,
      "outputs": []
    },
    {
      "cell_type": "code",
      "source": [
        "df.dropna(inplace=True)"
      ],
      "metadata": {
        "id": "xAh7gxtJrnMy"
      },
      "execution_count": null,
      "outputs": []
    },
    {
      "cell_type": "code",
      "source": [
        "df.head()"
      ],
      "metadata": {
        "colab": {
          "base_uri": "https://localhost:8080/",
          "height": 438
        },
        "id": "so88WIw5sGta",
        "outputId": "4ba80833-563a-449e-c0f2-27b507eb0b43"
      },
      "execution_count": null,
      "outputs": [
        {
          "output_type": "execute_result",
          "data": {
            "text/plain": [
              "  Kingdom  DNAtype  SpeciesID  Ncodons  \\\n",
              "0     vrl        0     100217     1995   \n",
              "1     vrl        0     100220     1474   \n",
              "2     vrl        0     100755     4862   \n",
              "3     vrl        0     100880     1915   \n",
              "4     vrl        0     100887    22831   \n",
              "\n",
              "                               SpeciesName      UUU      UUC      UUA  \\\n",
              "0  Epizootic haematopoietic necrosis virus  0.01654  0.01203  0.00050   \n",
              "1                         Bohle iridovirus  0.02714  0.01357  0.00068   \n",
              "2             Sweet potato leaf curl virus  0.01974  0.02180  0.01357   \n",
              "3             Northern cereal mosaic virus  0.01775  0.02245  0.01619   \n",
              "4           Soil-borne cereal mosaic virus  0.02816  0.01371  0.00767   \n",
              "\n",
              "       UUG      CUU  ...      CGG      AGA      AGG      GAU      GAC  \\\n",
              "0  0.00351  0.01203  ...  0.00451  0.01303  0.03559  0.01003  0.04612   \n",
              "1  0.00678  0.00407  ...  0.00136  0.01696  0.03596  0.01221  0.04545   \n",
              "2  0.01543  0.00782  ...  0.00596  0.01974  0.02489  0.03126  0.02036   \n",
              "3  0.00992  0.01567  ...  0.00366  0.01410  0.01671  0.03760  0.01932   \n",
              "4  0.03679  0.01380  ...  0.00604  0.01494  0.01734  0.04148  0.02483   \n",
              "\n",
              "       GAA      GAG      UAA      UAG      UGA  \n",
              "0  0.01203  0.04361  0.00251  0.00050  0.00000  \n",
              "1  0.01560  0.04410  0.00271  0.00068  0.00000  \n",
              "2  0.02242  0.02468  0.00391  0.00000  0.00144  \n",
              "3  0.03029  0.03446  0.00261  0.00157  0.00000  \n",
              "4  0.03359  0.03679  0.00000  0.00044  0.00131  \n",
              "\n",
              "[5 rows x 69 columns]"
            ],
            "text/html": [
              "\n",
              "  <div id=\"df-2f79d051-a37d-43b0-a9e1-b5c73dda026d\">\n",
              "    <div class=\"colab-df-container\">\n",
              "      <div>\n",
              "<style scoped>\n",
              "    .dataframe tbody tr th:only-of-type {\n",
              "        vertical-align: middle;\n",
              "    }\n",
              "\n",
              "    .dataframe tbody tr th {\n",
              "        vertical-align: top;\n",
              "    }\n",
              "\n",
              "    .dataframe thead th {\n",
              "        text-align: right;\n",
              "    }\n",
              "</style>\n",
              "<table border=\"1\" class=\"dataframe\">\n",
              "  <thead>\n",
              "    <tr style=\"text-align: right;\">\n",
              "      <th></th>\n",
              "      <th>Kingdom</th>\n",
              "      <th>DNAtype</th>\n",
              "      <th>SpeciesID</th>\n",
              "      <th>Ncodons</th>\n",
              "      <th>SpeciesName</th>\n",
              "      <th>UUU</th>\n",
              "      <th>UUC</th>\n",
              "      <th>UUA</th>\n",
              "      <th>UUG</th>\n",
              "      <th>CUU</th>\n",
              "      <th>...</th>\n",
              "      <th>CGG</th>\n",
              "      <th>AGA</th>\n",
              "      <th>AGG</th>\n",
              "      <th>GAU</th>\n",
              "      <th>GAC</th>\n",
              "      <th>GAA</th>\n",
              "      <th>GAG</th>\n",
              "      <th>UAA</th>\n",
              "      <th>UAG</th>\n",
              "      <th>UGA</th>\n",
              "    </tr>\n",
              "  </thead>\n",
              "  <tbody>\n",
              "    <tr>\n",
              "      <th>0</th>\n",
              "      <td>vrl</td>\n",
              "      <td>0</td>\n",
              "      <td>100217</td>\n",
              "      <td>1995</td>\n",
              "      <td>Epizootic haematopoietic necrosis virus</td>\n",
              "      <td>0.01654</td>\n",
              "      <td>0.01203</td>\n",
              "      <td>0.00050</td>\n",
              "      <td>0.00351</td>\n",
              "      <td>0.01203</td>\n",
              "      <td>...</td>\n",
              "      <td>0.00451</td>\n",
              "      <td>0.01303</td>\n",
              "      <td>0.03559</td>\n",
              "      <td>0.01003</td>\n",
              "      <td>0.04612</td>\n",
              "      <td>0.01203</td>\n",
              "      <td>0.04361</td>\n",
              "      <td>0.00251</td>\n",
              "      <td>0.00050</td>\n",
              "      <td>0.00000</td>\n",
              "    </tr>\n",
              "    <tr>\n",
              "      <th>1</th>\n",
              "      <td>vrl</td>\n",
              "      <td>0</td>\n",
              "      <td>100220</td>\n",
              "      <td>1474</td>\n",
              "      <td>Bohle iridovirus</td>\n",
              "      <td>0.02714</td>\n",
              "      <td>0.01357</td>\n",
              "      <td>0.00068</td>\n",
              "      <td>0.00678</td>\n",
              "      <td>0.00407</td>\n",
              "      <td>...</td>\n",
              "      <td>0.00136</td>\n",
              "      <td>0.01696</td>\n",
              "      <td>0.03596</td>\n",
              "      <td>0.01221</td>\n",
              "      <td>0.04545</td>\n",
              "      <td>0.01560</td>\n",
              "      <td>0.04410</td>\n",
              "      <td>0.00271</td>\n",
              "      <td>0.00068</td>\n",
              "      <td>0.00000</td>\n",
              "    </tr>\n",
              "    <tr>\n",
              "      <th>2</th>\n",
              "      <td>vrl</td>\n",
              "      <td>0</td>\n",
              "      <td>100755</td>\n",
              "      <td>4862</td>\n",
              "      <td>Sweet potato leaf curl virus</td>\n",
              "      <td>0.01974</td>\n",
              "      <td>0.02180</td>\n",
              "      <td>0.01357</td>\n",
              "      <td>0.01543</td>\n",
              "      <td>0.00782</td>\n",
              "      <td>...</td>\n",
              "      <td>0.00596</td>\n",
              "      <td>0.01974</td>\n",
              "      <td>0.02489</td>\n",
              "      <td>0.03126</td>\n",
              "      <td>0.02036</td>\n",
              "      <td>0.02242</td>\n",
              "      <td>0.02468</td>\n",
              "      <td>0.00391</td>\n",
              "      <td>0.00000</td>\n",
              "      <td>0.00144</td>\n",
              "    </tr>\n",
              "    <tr>\n",
              "      <th>3</th>\n",
              "      <td>vrl</td>\n",
              "      <td>0</td>\n",
              "      <td>100880</td>\n",
              "      <td>1915</td>\n",
              "      <td>Northern cereal mosaic virus</td>\n",
              "      <td>0.01775</td>\n",
              "      <td>0.02245</td>\n",
              "      <td>0.01619</td>\n",
              "      <td>0.00992</td>\n",
              "      <td>0.01567</td>\n",
              "      <td>...</td>\n",
              "      <td>0.00366</td>\n",
              "      <td>0.01410</td>\n",
              "      <td>0.01671</td>\n",
              "      <td>0.03760</td>\n",
              "      <td>0.01932</td>\n",
              "      <td>0.03029</td>\n",
              "      <td>0.03446</td>\n",
              "      <td>0.00261</td>\n",
              "      <td>0.00157</td>\n",
              "      <td>0.00000</td>\n",
              "    </tr>\n",
              "    <tr>\n",
              "      <th>4</th>\n",
              "      <td>vrl</td>\n",
              "      <td>0</td>\n",
              "      <td>100887</td>\n",
              "      <td>22831</td>\n",
              "      <td>Soil-borne cereal mosaic virus</td>\n",
              "      <td>0.02816</td>\n",
              "      <td>0.01371</td>\n",
              "      <td>0.00767</td>\n",
              "      <td>0.03679</td>\n",
              "      <td>0.01380</td>\n",
              "      <td>...</td>\n",
              "      <td>0.00604</td>\n",
              "      <td>0.01494</td>\n",
              "      <td>0.01734</td>\n",
              "      <td>0.04148</td>\n",
              "      <td>0.02483</td>\n",
              "      <td>0.03359</td>\n",
              "      <td>0.03679</td>\n",
              "      <td>0.00000</td>\n",
              "      <td>0.00044</td>\n",
              "      <td>0.00131</td>\n",
              "    </tr>\n",
              "  </tbody>\n",
              "</table>\n",
              "<p>5 rows × 69 columns</p>\n",
              "</div>\n",
              "      <button class=\"colab-df-convert\" onclick=\"convertToInteractive('df-2f79d051-a37d-43b0-a9e1-b5c73dda026d')\"\n",
              "              title=\"Convert this dataframe to an interactive table.\"\n",
              "              style=\"display:none;\">\n",
              "        \n",
              "  <svg xmlns=\"http://www.w3.org/2000/svg\" height=\"24px\"viewBox=\"0 0 24 24\"\n",
              "       width=\"24px\">\n",
              "    <path d=\"M0 0h24v24H0V0z\" fill=\"none\"/>\n",
              "    <path d=\"M18.56 5.44l.94 2.06.94-2.06 2.06-.94-2.06-.94-.94-2.06-.94 2.06-2.06.94zm-11 1L8.5 8.5l.94-2.06 2.06-.94-2.06-.94L8.5 2.5l-.94 2.06-2.06.94zm10 10l.94 2.06.94-2.06 2.06-.94-2.06-.94-.94-2.06-.94 2.06-2.06.94z\"/><path d=\"M17.41 7.96l-1.37-1.37c-.4-.4-.92-.59-1.43-.59-.52 0-1.04.2-1.43.59L10.3 9.45l-7.72 7.72c-.78.78-.78 2.05 0 2.83L4 21.41c.39.39.9.59 1.41.59.51 0 1.02-.2 1.41-.59l7.78-7.78 2.81-2.81c.8-.78.8-2.07 0-2.86zM5.41 20L4 18.59l7.72-7.72 1.47 1.35L5.41 20z\"/>\n",
              "  </svg>\n",
              "      </button>\n",
              "      \n",
              "  <style>\n",
              "    .colab-df-container {\n",
              "      display:flex;\n",
              "      flex-wrap:wrap;\n",
              "      gap: 12px;\n",
              "    }\n",
              "\n",
              "    .colab-df-convert {\n",
              "      background-color: #E8F0FE;\n",
              "      border: none;\n",
              "      border-radius: 50%;\n",
              "      cursor: pointer;\n",
              "      display: none;\n",
              "      fill: #1967D2;\n",
              "      height: 32px;\n",
              "      padding: 0 0 0 0;\n",
              "      width: 32px;\n",
              "    }\n",
              "\n",
              "    .colab-df-convert:hover {\n",
              "      background-color: #E2EBFA;\n",
              "      box-shadow: 0px 1px 2px rgba(60, 64, 67, 0.3), 0px 1px 3px 1px rgba(60, 64, 67, 0.15);\n",
              "      fill: #174EA6;\n",
              "    }\n",
              "\n",
              "    [theme=dark] .colab-df-convert {\n",
              "      background-color: #3B4455;\n",
              "      fill: #D2E3FC;\n",
              "    }\n",
              "\n",
              "    [theme=dark] .colab-df-convert:hover {\n",
              "      background-color: #434B5C;\n",
              "      box-shadow: 0px 1px 3px 1px rgba(0, 0, 0, 0.15);\n",
              "      filter: drop-shadow(0px 1px 2px rgba(0, 0, 0, 0.3));\n",
              "      fill: #FFFFFF;\n",
              "    }\n",
              "  </style>\n",
              "\n",
              "      <script>\n",
              "        const buttonEl =\n",
              "          document.querySelector('#df-2f79d051-a37d-43b0-a9e1-b5c73dda026d button.colab-df-convert');\n",
              "        buttonEl.style.display =\n",
              "          google.colab.kernel.accessAllowed ? 'block' : 'none';\n",
              "\n",
              "        async function convertToInteractive(key) {\n",
              "          const element = document.querySelector('#df-2f79d051-a37d-43b0-a9e1-b5c73dda026d');\n",
              "          const dataTable =\n",
              "            await google.colab.kernel.invokeFunction('convertToInteractive',\n",
              "                                                     [key], {});\n",
              "          if (!dataTable) return;\n",
              "\n",
              "          const docLinkHtml = 'Like what you see? Visit the ' +\n",
              "            '<a target=\"_blank\" href=https://colab.research.google.com/notebooks/data_table.ipynb>data table notebook</a>'\n",
              "            + ' to learn more about interactive tables.';\n",
              "          element.innerHTML = '';\n",
              "          dataTable['output_type'] = 'display_data';\n",
              "          await google.colab.output.renderOutput(dataTable, element);\n",
              "          const docLink = document.createElement('div');\n",
              "          docLink.innerHTML = docLinkHtml;\n",
              "          element.appendChild(docLink);\n",
              "        }\n",
              "      </script>\n",
              "    </div>\n",
              "  </div>\n",
              "  "
            ]
          },
          "metadata": {},
          "execution_count": 82
        }
      ]
    },
    {
      "cell_type": "code",
      "source": [
        "df_copy = df.copy()"
      ],
      "metadata": {
        "id": "bb3aeFcosH64"
      },
      "execution_count": null,
      "outputs": []
    },
    {
      "cell_type": "code",
      "source": [
        "from sklearn.preprocessing import LabelEncoder\n",
        "le = LabelEncoder()\n",
        "df['Kingdom'] = le.fit_transform(df['Kingdom'])\n",
        "\n",
        "df.info()"
      ],
      "metadata": {
        "colab": {
          "base_uri": "https://localhost:8080/"
        },
        "id": "MLDQSPmGwWQA",
        "outputId": "234e2cb1-ff8e-43cd-eec1-440d31808b99"
      },
      "execution_count": null,
      "outputs": [
        {
          "output_type": "stream",
          "name": "stdout",
          "text": [
            "<class 'pandas.core.frame.DataFrame'>\n",
            "Int64Index: 13026 entries, 0 to 13027\n",
            "Data columns (total 69 columns):\n",
            " #   Column       Non-Null Count  Dtype  \n",
            "---  ------       --------------  -----  \n",
            " 0   Kingdom      13026 non-null  int64  \n",
            " 1   DNAtype      13026 non-null  int64  \n",
            " 2   SpeciesID    13026 non-null  int64  \n",
            " 3   Ncodons      13026 non-null  int64  \n",
            " 4   SpeciesName  13026 non-null  object \n",
            " 5   UUU          13026 non-null  float32\n",
            " 6   UUC          13026 non-null  float32\n",
            " 7   UUA          13026 non-null  float64\n",
            " 8   UUG          13026 non-null  float64\n",
            " 9   CUU          13026 non-null  float64\n",
            " 10  CUC          13026 non-null  float64\n",
            " 11  CUA          13026 non-null  float64\n",
            " 12  CUG          13026 non-null  float64\n",
            " 13  AUU          13026 non-null  float64\n",
            " 14  AUC          13026 non-null  float64\n",
            " 15  AUA          13026 non-null  float64\n",
            " 16  AUG          13026 non-null  float64\n",
            " 17  GUU          13026 non-null  float64\n",
            " 18  GUC          13026 non-null  float64\n",
            " 19  GUA          13026 non-null  float64\n",
            " 20  GUG          13026 non-null  float64\n",
            " 21  GCU          13026 non-null  float64\n",
            " 22  GCC          13026 non-null  float64\n",
            " 23  GCA          13026 non-null  float64\n",
            " 24  GCG          13026 non-null  float64\n",
            " 25  CCU          13026 non-null  float64\n",
            " 26  CCC          13026 non-null  float64\n",
            " 27  CCA          13026 non-null  float64\n",
            " 28  CCG          13026 non-null  float64\n",
            " 29  UGG          13026 non-null  float64\n",
            " 30  GGU          13026 non-null  float64\n",
            " 31  GGC          13026 non-null  float64\n",
            " 32  GGA          13026 non-null  float64\n",
            " 33  GGG          13026 non-null  float64\n",
            " 34  UCU          13026 non-null  float64\n",
            " 35  UCC          13026 non-null  float64\n",
            " 36  UCA          13026 non-null  float64\n",
            " 37  UCG          13026 non-null  float64\n",
            " 38  AGU          13026 non-null  float64\n",
            " 39  AGC          13026 non-null  float64\n",
            " 40  ACU          13026 non-null  float64\n",
            " 41  ACC          13026 non-null  float64\n",
            " 42  ACA          13026 non-null  float64\n",
            " 43  ACG          13026 non-null  float64\n",
            " 44  UAU          13026 non-null  float64\n",
            " 45  UAC          13026 non-null  float64\n",
            " 46  CAA          13026 non-null  float64\n",
            " 47  CAG          13026 non-null  float64\n",
            " 48  AAU          13026 non-null  float64\n",
            " 49  AAC          13026 non-null  float64\n",
            " 50  UGU          13026 non-null  float64\n",
            " 51  UGC          13026 non-null  float64\n",
            " 52  CAU          13026 non-null  float64\n",
            " 53  CAC          13026 non-null  float64\n",
            " 54  AAA          13026 non-null  float64\n",
            " 55  AAG          13026 non-null  float64\n",
            " 56  CGU          13026 non-null  float64\n",
            " 57  CGC          13026 non-null  float64\n",
            " 58  CGA          13026 non-null  float64\n",
            " 59  CGG          13026 non-null  float64\n",
            " 60  AGA          13026 non-null  float64\n",
            " 61  AGG          13026 non-null  float64\n",
            " 62  GAU          13026 non-null  float64\n",
            " 63  GAC          13026 non-null  float64\n",
            " 64  GAA          13026 non-null  float64\n",
            " 65  GAG          13026 non-null  float64\n",
            " 66  UAA          13026 non-null  float64\n",
            " 67  UAG          13026 non-null  float64\n",
            " 68  UGA          13026 non-null  float64\n",
            "dtypes: float32(2), float64(62), int64(4), object(1)\n",
            "memory usage: 6.9+ MB\n"
          ]
        }
      ]
    },
    {
      "cell_type": "code",
      "source": [
        "df['Kingdom'].value_counts()"
      ],
      "metadata": {
        "colab": {
          "base_uri": "https://localhost:8080/"
        },
        "id": "5JrSoHRIxtco",
        "outputId": "c866c88e-296c-470f-b618-e4c98eaae6ad"
      },
      "execution_count": null,
      "outputs": [
        {
          "output_type": "execute_result",
          "data": {
            "text/plain": [
              "1     2919\n",
              "9     2831\n",
              "6     2523\n",
              "10    2077\n",
              "2     1345\n",
              "3      572\n",
              "4      220\n",
              "8      215\n",
              "7      180\n",
              "0      126\n",
              "5       18\n",
              "Name: Kingdom, dtype: int64"
            ]
          },
          "metadata": {},
          "execution_count": 86
        }
      ]
    },
    {
      "cell_type": "code",
      "source": [
        "X = df.drop(columns = ['Kingdom', 'SpeciesName'], axis = 1)\n",
        "y = df['Kingdom']"
      ],
      "metadata": {
        "id": "PuEDR1Ybx4-I"
      },
      "execution_count": null,
      "outputs": []
    },
    {
      "cell_type": "code",
      "source": [
        "print(\"Dimensión X \", X.shape)\n",
        "print(\"Dimensión y \", y.shape)"
      ],
      "metadata": {
        "colab": {
          "base_uri": "https://localhost:8080/"
        },
        "id": "v_vKZBHRywFA",
        "outputId": "909da324-88d1-496f-e29d-215b22696440"
      },
      "execution_count": null,
      "outputs": [
        {
          "output_type": "stream",
          "name": "stdout",
          "text": [
            "Dimensión X  (13026, 67)\n",
            "Dimensión y  (13026,)\n"
          ]
        }
      ]
    },
    {
      "cell_type": "code",
      "source": [
        ""
      ],
      "metadata": {
        "id": "z2Nd5bszy8nY"
      },
      "execution_count": null,
      "outputs": []
    },
    {
      "cell_type": "code",
      "source": [
        "from sklearn.model_selection import train_test_split\n",
        "X_train, X_test, y_train, y_test = train_test_split(X, y, test_size = 0.2, random_state = 0)"
      ],
      "metadata": {
        "id": "J8yB8E0yzCoY"
      },
      "execution_count": null,
      "outputs": []
    },
    {
      "cell_type": "code",
      "source": [
        "from pprint import pprint\n",
        "rf_grid = {'max_depth':[3,5,10,None],\n",
        "          'n_estimators':[10,100,200,300,400,500],\n",
        "          'max_features':['auto', 'sqrt'],\n",
        "          'criterion':['gini','entropy'],\n",
        "          'bootstrap':[True,False],\n",
        "          'min_samples_leaf':[1, 2, 4],\n",
        "          'min_samples_split': [2, 4, 5, 10]\n",
        "  }\n",
        "print('Los valores a probar en la búsqueda por grilla son:')\n",
        "pprint(rf_grid)"
      ],
      "metadata": {
        "colab": {
          "base_uri": "https://localhost:8080/"
        },
        "id": "EthXmsHVzb_-",
        "outputId": "4cc94a62-b8ef-48fb-8734-d316ef933af9"
      },
      "execution_count": null,
      "outputs": [
        {
          "output_type": "stream",
          "name": "stdout",
          "text": [
            "Los valores a probar en la búsqueda por grilla son:\n",
            "{'bootstrap': [True, False],\n",
            " 'criterion': ['gini', 'entropy'],\n",
            " 'max_depth': [3, 5, 10, None],\n",
            " 'max_features': ['auto', 'sqrt'],\n",
            " 'min_samples_leaf': [1, 2, 4],\n",
            " 'min_samples_split': [2, 4, 5, 10],\n",
            " 'n_estimators': [10, 100, 200, 300, 400, 500]}\n"
          ]
        }
      ]
    },
    {
      "cell_type": "code",
      "source": [
        "from sklearn.ensemble import RandomForestClassifier\n",
        "from sklearn.model_selection import RandomizedSearchCV\n",
        "\n",
        "model_grid_rfc = RandomForestClassifier()\n",
        "rf_grid_search = RandomizedSearchCV(\n",
        "    estimator=model_grid_rfc,\n",
        "    param_distributions=rf_grid,\n",
        "    n_jobs=-1,    \n",
        "    cv=3\n",
        ")\n",
        "rf_grid_search.fit(X_train, y_train)\n",
        "\n",
        "rf_gridsearch_best = rf_grid_search.best_estimator_\n",
        "\n",
        "print('Los hiperparámetros del mejor modelo son:')\n",
        "pprint(rf_grid_search.best_params_)\n",
        "print()\n",
        "\n",
        "print('Exactitud luego de búsqueda en grilla en entrenamiento:', rf_gridsearch_best.score(X_train, y_train))\n",
        "print('Exactitud luego de búsqueda en grilla en validación:', rf_gridsearch_best.score(X_test, y_test))"
      ],
      "metadata": {
        "colab": {
          "base_uri": "https://localhost:8080/"
        },
        "id": "QGhdokuS0e42",
        "outputId": "685a9d32-c5c3-4003-e84c-3b16dc4dc60d"
      },
      "execution_count": null,
      "outputs": [
        {
          "output_type": "stream",
          "name": "stdout",
          "text": [
            "Los hiperparámetros del mejor modelo son:\n",
            "{'bootstrap': False,\n",
            " 'criterion': 'gini',\n",
            " 'max_depth': None,\n",
            " 'max_features': 'sqrt',\n",
            " 'min_samples_leaf': 1,\n",
            " 'min_samples_split': 5,\n",
            " 'n_estimators': 300}\n",
            "\n",
            "Exactitud luego de búsqueda en grilla en entrenamiento: 1.0\n",
            "Exactitud luego de búsqueda en grilla en validación: 0.9267075978511128\n"
          ]
        }
      ]
    },
    {
      "cell_type": "code",
      "source": [
        ""
      ],
      "metadata": {
        "id": "EJ5OfRQOzWx-"
      },
      "execution_count": null,
      "outputs": []
    }
  ]
}